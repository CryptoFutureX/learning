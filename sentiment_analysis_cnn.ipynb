{
  "nbformat": 4,
  "nbformat_minor": 0,
  "metadata": {
    "colab": {
      "name": "sentiment_analysis_cnn.ipynb",
      "provenance": [],
      "collapsed_sections": []
    },
    "kernelspec": {
      "name": "python3",
      "display_name": "Python 3"
    },
    "accelerator": "GPU"
  },
  "cells": [
    {
      "cell_type": "markdown",
      "metadata": {
        "id": "5HzWor7BaDfN"
      },
      "source": [
        "#DATASET PROCESSING"
      ]
    },
    {
      "cell_type": "code",
      "metadata": {
        "id": "_ZsG8Rw3Z8Wz"
      },
      "source": [
        "BASE_PATH = '/content/drive/MyDrive/Cryptofuture'"
      ],
      "execution_count": null,
      "outputs": []
    },
    {
      "cell_type": "code",
      "metadata": {
        "id": "jgQ7hoGMafMB"
      },
      "source": [
        "import os\r\n",
        "import pandas as pd\r\n",
        "\r\n",
        "df = pd.read_csv(os.path.join(BASE_PATH, 'traindata.csv'), encoding='latin')\r\n",
        "df.columns = ['sentiment', 'id', 'date', 'flag', 'user', 'text']\r\n",
        "\r\n",
        "df.sample(n=10)"
      ],
      "execution_count": null,
      "outputs": []
    },
    {
      "cell_type": "code",
      "metadata": {
        "colab": {
          "base_uri": "https://localhost:8080/",
          "height": 343
        },
        "id": "MMWu_tkvbKVV",
        "outputId": "25945334-e6cb-46a9-cdd4-c50639ff9fff"
      },
      "source": [
        "# Removing unnecessary rows\r\n",
        "\r\n",
        "clean_df = df[['text', 'sentiment']]\r\n",
        "clean_df.sample(n=10)"
      ],
      "execution_count": null,
      "outputs": [
        {
          "output_type": "execute_result",
          "data": {
            "text/html": [
              "<div>\n",
              "<style scoped>\n",
              "    .dataframe tbody tr th:only-of-type {\n",
              "        vertical-align: middle;\n",
              "    }\n",
              "\n",
              "    .dataframe tbody tr th {\n",
              "        vertical-align: top;\n",
              "    }\n",
              "\n",
              "    .dataframe thead th {\n",
              "        text-align: right;\n",
              "    }\n",
              "</style>\n",
              "<table border=\"1\" class=\"dataframe\">\n",
              "  <thead>\n",
              "    <tr style=\"text-align: right;\">\n",
              "      <th></th>\n",
              "      <th>text</th>\n",
              "      <th>sentiment</th>\n",
              "    </tr>\n",
              "  </thead>\n",
              "  <tbody>\n",
              "    <tr>\n",
              "      <th>799860</th>\n",
              "      <td>@liiveguddiebadd im ok.. i been mad busy the p...</td>\n",
              "      <td>0</td>\n",
              "    </tr>\n",
              "    <tr>\n",
              "      <th>101873</th>\n",
              "      <td>I just made pancakes that didn't burn. But I g...</td>\n",
              "      <td>0</td>\n",
              "    </tr>\n",
              "    <tr>\n",
              "      <th>164838</th>\n",
              "      <td>@Keitakeita girl you stay inviting me but not ...</td>\n",
              "      <td>0</td>\n",
              "    </tr>\n",
              "    <tr>\n",
              "      <th>594055</th>\n",
              "      <td>@MusicMistress90 oh....lol i feel dumb</td>\n",
              "      <td>0</td>\n",
              "    </tr>\n",
              "    <tr>\n",
              "      <th>1540371</th>\n",
              "      <td>Hey @mbreitweiser i like the work so far.   (m...</td>\n",
              "      <td>4</td>\n",
              "    </tr>\n",
              "    <tr>\n",
              "      <th>1573803</th>\n",
              "      <td>im in class and im bored   :S</td>\n",
              "      <td>4</td>\n",
              "    </tr>\n",
              "    <tr>\n",
              "      <th>440471</th>\n",
              "      <td>HAHA. @shwood convinced me to try friendorfoll...</td>\n",
              "      <td>0</td>\n",
              "    </tr>\n",
              "    <tr>\n",
              "      <th>1227788</th>\n",
              "      <td>@MothmanJim Very thrilled</td>\n",
              "      <td>4</td>\n",
              "    </tr>\n",
              "    <tr>\n",
              "      <th>82649</th>\n",
              "      <td>@noreenjuliano  bahhhhh i cant watch the video</td>\n",
              "      <td>0</td>\n",
              "    </tr>\n",
              "    <tr>\n",
              "      <th>142479</th>\n",
              "      <td>I hate my family  They don't understand me</td>\n",
              "      <td>0</td>\n",
              "    </tr>\n",
              "  </tbody>\n",
              "</table>\n",
              "</div>"
            ],
            "text/plain": [
              "                                                      text  sentiment\n",
              "799860   @liiveguddiebadd im ok.. i been mad busy the p...          0\n",
              "101873   I just made pancakes that didn't burn. But I g...          0\n",
              "164838   @Keitakeita girl you stay inviting me but not ...          0\n",
              "594055             @MusicMistress90 oh....lol i feel dumb           0\n",
              "1540371  Hey @mbreitweiser i like the work so far.   (m...          4\n",
              "1573803                      im in class and im bored   :S          4\n",
              "440471   HAHA. @shwood convinced me to try friendorfoll...          0\n",
              "1227788                         @MothmanJim Very thrilled           4\n",
              "82649      @noreenjuliano  bahhhhh i cant watch the video           0\n",
              "142479         I hate my family  They don't understand me           0"
            ]
          },
          "metadata": {
            "tags": []
          },
          "execution_count": 3
        }
      ]
    },
    {
      "cell_type": "code",
      "metadata": {
        "colab": {
          "base_uri": "https://localhost:8080/",
          "height": 444
        },
        "id": "AKZpBA4nbhsK",
        "outputId": "785e7538-f0c1-43c9-879c-240eb86dc437"
      },
      "source": [
        "# Normalizing the sentiments in range 0-1\r\n",
        "\r\n",
        "clean_df['sentiment'] = clean_df.sentiment.apply(lambda x: 1 if x == 4 else 0)\r\n",
        "\r\n",
        "clean_df.sample(n=10)"
      ],
      "execution_count": null,
      "outputs": [
        {
          "output_type": "stream",
          "text": [
            "/usr/local/lib/python3.7/dist-packages/ipykernel_launcher.py:3: SettingWithCopyWarning: \n",
            "A value is trying to be set on a copy of a slice from a DataFrame.\n",
            "Try using .loc[row_indexer,col_indexer] = value instead\n",
            "\n",
            "See the caveats in the documentation: https://pandas.pydata.org/pandas-docs/stable/user_guide/indexing.html#returning-a-view-versus-a-copy\n",
            "  This is separate from the ipykernel package so we can avoid doing imports until\n"
          ],
          "name": "stderr"
        },
        {
          "output_type": "execute_result",
          "data": {
            "text/html": [
              "<div>\n",
              "<style scoped>\n",
              "    .dataframe tbody tr th:only-of-type {\n",
              "        vertical-align: middle;\n",
              "    }\n",
              "\n",
              "    .dataframe tbody tr th {\n",
              "        vertical-align: top;\n",
              "    }\n",
              "\n",
              "    .dataframe thead th {\n",
              "        text-align: right;\n",
              "    }\n",
              "</style>\n",
              "<table border=\"1\" class=\"dataframe\">\n",
              "  <thead>\n",
              "    <tr style=\"text-align: right;\">\n",
              "      <th></th>\n",
              "      <th>text</th>\n",
              "      <th>sentiment</th>\n",
              "    </tr>\n",
              "  </thead>\n",
              "  <tbody>\n",
              "    <tr>\n",
              "      <th>958261</th>\n",
              "      <td>oooh, work in two hours.. theres something ver...</td>\n",
              "      <td>1</td>\n",
              "    </tr>\n",
              "    <tr>\n",
              "      <th>1534755</th>\n",
              "      <td>@DeeHarlemgrlEb lol briiight and eeaarlly liik...</td>\n",
              "      <td>1</td>\n",
              "    </tr>\n",
              "    <tr>\n",
              "      <th>930498</th>\n",
              "      <td>@CHRIS_Daughtry dl'd the song on my comp, have...</td>\n",
              "      <td>1</td>\n",
              "    </tr>\n",
              "    <tr>\n",
              "      <th>765815</th>\n",
              "      <td>ugggggh i wish josh would go to the drive in! ...</td>\n",
              "      <td>0</td>\n",
              "    </tr>\n",
              "    <tr>\n",
              "      <th>325681</th>\n",
              "      <td>It cut off in 'More Than Just A Werewolf' too ...</td>\n",
              "      <td>0</td>\n",
              "    </tr>\n",
              "    <tr>\n",
              "      <th>503520</th>\n",
              "      <td>kinda awkward when u go COMMANDO &amp;amp; ur baby...</td>\n",
              "      <td>0</td>\n",
              "    </tr>\n",
              "    <tr>\n",
              "      <th>456473</th>\n",
              "      <td>@Tatiana_K nah I sat this one out. everybody's...</td>\n",
              "      <td>0</td>\n",
              "    </tr>\n",
              "    <tr>\n",
              "      <th>560306</th>\n",
              "      <td>No iPhone 3.0 update yet.   Looks like I'll ha...</td>\n",
              "      <td>0</td>\n",
              "    </tr>\n",
              "    <tr>\n",
              "      <th>1583539</th>\n",
              "      <td>@mizzorange,... its confirm we're goin to Bali...</td>\n",
              "      <td>1</td>\n",
              "    </tr>\n",
              "    <tr>\n",
              "      <th>192531</th>\n",
              "      <td>@croarty not really  tired, less than good wee...</td>\n",
              "      <td>0</td>\n",
              "    </tr>\n",
              "  </tbody>\n",
              "</table>\n",
              "</div>"
            ],
            "text/plain": [
              "                                                      text  sentiment\n",
              "958261   oooh, work in two hours.. theres something ver...          1\n",
              "1534755  @DeeHarlemgrlEb lol briiight and eeaarlly liik...          1\n",
              "930498   @CHRIS_Daughtry dl'd the song on my comp, have...          1\n",
              "765815   ugggggh i wish josh would go to the drive in! ...          0\n",
              "325681   It cut off in 'More Than Just A Werewolf' too ...          0\n",
              "503520   kinda awkward when u go COMMANDO &amp; ur baby...          0\n",
              "456473   @Tatiana_K nah I sat this one out. everybody's...          0\n",
              "560306   No iPhone 3.0 update yet.   Looks like I'll ha...          0\n",
              "1583539  @mizzorange,... its confirm we're goin to Bali...          1\n",
              "192531   @croarty not really  tired, less than good wee...          0"
            ]
          },
          "metadata": {
            "tags": []
          },
          "execution_count": 4
        }
      ]
    },
    {
      "cell_type": "code",
      "metadata": {
        "id": "m_99YFPreV3v"
      },
      "source": [
        "import re\r\n",
        "\r\n",
        "def cleanup_text(text):\r\n",
        "    text = re.sub(r'[^\\w\\s]', ' ', text)\r\n",
        "    text = re.sub(r' +', ' ', text)\r\n",
        "    text = re.sub(r'\\n', ' ', text)\r\n",
        "\r\n",
        "    return text"
      ],
      "execution_count": null,
      "outputs": []
    },
    {
      "cell_type": "code",
      "metadata": {
        "colab": {
          "base_uri": "https://localhost:8080/",
          "height": 464
        },
        "id": "gWWV4EU_fQye",
        "outputId": "202e3ca9-aef2-4bbe-c511-a3a2379dc055"
      },
      "source": [
        "clean_df['text'] = clean_df.text.apply(cleanup_text)\r\n",
        "\r\n",
        "clean_df.sample(n=10)"
      ],
      "execution_count": null,
      "outputs": [
        {
          "output_type": "stream",
          "text": [
            "/usr/local/lib/python3.7/dist-packages/ipykernel_launcher.py:1: SettingWithCopyWarning: \n",
            "A value is trying to be set on a copy of a slice from a DataFrame.\n",
            "Try using .loc[row_indexer,col_indexer] = value instead\n",
            "\n",
            "See the caveats in the documentation: https://pandas.pydata.org/pandas-docs/stable/user_guide/indexing.html#returning-a-view-versus-a-copy\n",
            "  \"\"\"Entry point for launching an IPython kernel.\n"
          ],
          "name": "stderr"
        },
        {
          "output_type": "execute_result",
          "data": {
            "text/html": [
              "<div>\n",
              "<style scoped>\n",
              "    .dataframe tbody tr th:only-of-type {\n",
              "        vertical-align: middle;\n",
              "    }\n",
              "\n",
              "    .dataframe tbody tr th {\n",
              "        vertical-align: top;\n",
              "    }\n",
              "\n",
              "    .dataframe thead th {\n",
              "        text-align: right;\n",
              "    }\n",
              "</style>\n",
              "<table border=\"1\" class=\"dataframe\">\n",
              "  <thead>\n",
              "    <tr style=\"text-align: right;\">\n",
              "      <th></th>\n",
              "      <th>text</th>\n",
              "      <th>sentiment</th>\n",
              "    </tr>\n",
              "  </thead>\n",
              "  <tbody>\n",
              "    <tr>\n",
              "      <th>480467</th>\n",
              "      <td>praying for my friends Dad</td>\n",
              "      <td>0</td>\n",
              "    </tr>\n",
              "    <tr>\n",
              "      <th>881714</th>\n",
              "      <td>Prom was freakin awesome I had a GREAT night</td>\n",
              "      <td>1</td>\n",
              "    </tr>\n",
              "    <tr>\n",
              "      <th>1233727</th>\n",
              "      <td>ok i gtg i need to sleep eventhough tomorrow S...</td>\n",
              "      <td>1</td>\n",
              "    </tr>\n",
              "    <tr>\n",
              "      <th>147479</th>\n",
              "      <td>amyrachel1911 try to have fun x</td>\n",
              "      <td>0</td>\n",
              "    </tr>\n",
              "    <tr>\n",
              "      <th>1091935</th>\n",
              "      <td>fickleticks sorry girl i m like blur abt twit...</td>\n",
              "      <td>1</td>\n",
              "    </tr>\n",
              "    <tr>\n",
              "      <th>434837</th>\n",
              "      <td>GlobalGrind How is an ex stripper freak who p...</td>\n",
              "      <td>0</td>\n",
              "    </tr>\n",
              "    <tr>\n",
              "      <th>478365</th>\n",
              "      <td>Anela19 LOL I will post some better ones I am...</td>\n",
              "      <td>0</td>\n",
              "    </tr>\n",
              "    <tr>\n",
              "      <th>1051258</th>\n",
              "      <td>faulko1 Well hello there</td>\n",
              "      <td>1</td>\n",
              "    </tr>\n",
              "    <tr>\n",
              "      <th>1267517</th>\n",
              "      <td>I am soooo ready for tomorrow It s gonna be aw...</td>\n",
              "      <td>1</td>\n",
              "    </tr>\n",
              "    <tr>\n",
              "      <th>47876</th>\n",
              "      <td>And people remain here I don t think they are...</td>\n",
              "      <td>0</td>\n",
              "    </tr>\n",
              "  </tbody>\n",
              "</table>\n",
              "</div>"
            ],
            "text/plain": [
              "                                                      text  sentiment\n",
              "480467                         praying for my friends Dad           0\n",
              "881714       Prom was freakin awesome I had a GREAT night           1\n",
              "1233727  ok i gtg i need to sleep eventhough tomorrow S...          1\n",
              "147479                     amyrachel1911 try to have fun x          0\n",
              "1091935   fickleticks sorry girl i m like blur abt twit...          1\n",
              "434837    GlobalGrind How is an ex stripper freak who p...          0\n",
              "478365    Anela19 LOL I will post some better ones I am...          0\n",
              "1051258                          faulko1 Well hello there           1\n",
              "1267517  I am soooo ready for tomorrow It s gonna be aw...          1\n",
              "47876     And people remain here I don t think they are...          0"
            ]
          },
          "metadata": {
            "tags": []
          },
          "execution_count": 6
        }
      ]
    },
    {
      "cell_type": "code",
      "metadata": {
        "id": "ZHZ0zhDZbwhd"
      },
      "source": [
        "from sklearn.model_selection import train_test_split\r\n",
        "\r\n",
        "train_df, test_df = train_test_split(clean_df, test_size=0.1, random_state=42, shuffle=True)"
      ],
      "execution_count": null,
      "outputs": []
    },
    {
      "cell_type": "code",
      "metadata": {
        "colab": {
          "base_uri": "https://localhost:8080/",
          "height": 350
        },
        "id": "0ly2oUy5ckXZ",
        "outputId": "ff97a3fa-ef7c-44b5-c596-6c9226a9cd3e"
      },
      "source": [
        "# Checking balance\r\n",
        "\r\n",
        "import seaborn as sns\r\n",
        "\r\n",
        "sns.countplot(train_df.sentiment)"
      ],
      "execution_count": null,
      "outputs": [
        {
          "output_type": "stream",
          "text": [
            "/usr/local/lib/python3.7/dist-packages/seaborn/_decorators.py:43: FutureWarning: Pass the following variable as a keyword arg: x. From version 0.12, the only valid positional argument will be `data`, and passing other arguments without an explicit keyword will result in an error or misinterpretation.\n",
            "  FutureWarning\n"
          ],
          "name": "stderr"
        },
        {
          "output_type": "execute_result",
          "data": {
            "text/plain": [
              "<matplotlib.axes._subplots.AxesSubplot at 0x7f0985a588d0>"
            ]
          },
          "metadata": {
            "tags": []
          },
          "execution_count": 8
        },
        {
          "output_type": "display_data",
          "data": {
            "image/png": "[encoded data removed]",
            "text/plain": [
              "<Figure size 432x288 with 1 Axes>"
            ]
          },
          "metadata": {
            "tags": [],
            "needs_background": "light"
          }
        }
      ]
    },
    {
      "cell_type": "code",
      "metadata": {
        "colab": {
          "base_uri": "https://localhost:8080/",
          "height": 350
        },
        "id": "LQicFlhYcufD",
        "outputId": "b2230969-67ca-4477-83e6-ef0147cdb145"
      },
      "source": [
        "sns.countplot(test_df.sentiment)"
      ],
      "execution_count": null,
      "outputs": [
        {
          "output_type": "stream",
          "text": [
            "/usr/local/lib/python3.7/dist-packages/seaborn/_decorators.py:43: FutureWarning: Pass the following variable as a keyword arg: x. From version 0.12, the only valid positional argument will be `data`, and passing other arguments without an explicit keyword will result in an error or misinterpretation.\n",
            "  FutureWarning\n"
          ],
          "name": "stderr"
        },
        {
          "output_type": "execute_result",
          "data": {
            "text/plain": [
              "<matplotlib.axes._subplots.AxesSubplot at 0x7f0985295510>"
            ]
          },
          "metadata": {
            "tags": []
          },
          "execution_count": 9
        },
        {
          "output_type": "display_data",
          "data": {
            "image/png": "[encoded data removed]",
            "text/plain": [
              "<Figure size 432x288 with 1 Axes>"
            ]
          },
          "metadata": {
            "tags": [],
            "needs_background": "light"
          }
        }
      ]
    },
    {
      "cell_type": "code",
      "metadata": {
        "id": "GjLOfT44c2iJ"
      },
      "source": [
        "# Saving the dataframes\r\n",
        "\r\n",
        "train_data = train_df.to_csv(os.path.join(BASE_PATH, 'train_data.csv'), index=False)\r\n",
        "test_data = test_df.to_csv(os.path.join(BASE_PATH, 'test_data.csv'), index=False)"
      ],
      "execution_count": null,
      "outputs": []
    },
    {
      "cell_type": "code",
      "metadata": {
        "colab": {
          "base_uri": "https://localhost:8080/",
          "height": 195
        },
        "id": "RdznLbdPYkRC",
        "outputId": "42514acc-68eb-419c-a805-1fbe0cf2dc19"
      },
      "source": [
        "import os\r\n",
        "import pandas as pd\r\n",
        "\r\n",
        "tr_df = pd.read_csv(os.path.join(BASE_PATH, 'train_data.csv'))\r\n",
        "tr_df.head()"
      ],
      "execution_count": null,
      "outputs": [
        {
          "output_type": "execute_result",
          "data": {
            "text/html": [
              "<div>\n",
              "<style scoped>\n",
              "    .dataframe tbody tr th:only-of-type {\n",
              "        vertical-align: middle;\n",
              "    }\n",
              "\n",
              "    .dataframe tbody tr th {\n",
              "        vertical-align: top;\n",
              "    }\n",
              "\n",
              "    .dataframe thead th {\n",
              "        text-align: right;\n",
              "    }\n",
              "</style>\n",
              "<table border=\"1\" class=\"dataframe\">\n",
              "  <thead>\n",
              "    <tr style=\"text-align: right;\">\n",
              "      <th></th>\n",
              "      <th>text</th>\n",
              "      <th>sentiment</th>\n",
              "    </tr>\n",
              "  </thead>\n",
              "  <tbody>\n",
              "    <tr>\n",
              "      <th>0</th>\n",
              "      <td>just saw your picture and my heart melted</td>\n",
              "      <td>1</td>\n",
              "    </tr>\n",
              "    <tr>\n",
              "      <th>1</th>\n",
              "      <td>Hyperfludd Needs less age restriction</td>\n",
              "      <td>0</td>\n",
              "    </tr>\n",
              "    <tr>\n",
              "      <th>2</th>\n",
              "      <td>laurenredhead No problem These boxes are _mad...</td>\n",
              "      <td>1</td>\n",
              "    </tr>\n",
              "    <tr>\n",
              "      <th>3</th>\n",
              "      <td>Mad that the cavs r losing but still love Lebron</td>\n",
              "      <td>0</td>\n",
              "    </tr>\n",
              "    <tr>\n",
              "      <th>4</th>\n",
              "      <td>AmandaPatchin See you next time</td>\n",
              "      <td>0</td>\n",
              "    </tr>\n",
              "  </tbody>\n",
              "</table>\n",
              "</div>"
            ],
            "text/plain": [
              "                                                text  sentiment\n",
              "0         just saw your picture and my heart melted           1\n",
              "1             Hyperfludd Needs less age restriction           0\n",
              "2   laurenredhead No problem These boxes are _mad...          1\n",
              "3  Mad that the cavs r losing but still love Lebron           0\n",
              "4                   AmandaPatchin See you next time           0"
            ]
          },
          "metadata": {
            "tags": []
          },
          "execution_count": 3
        }
      ]
    },
    {
      "cell_type": "code",
      "metadata": {
        "colab": {
          "base_uri": "https://localhost:8080/",
          "height": 195
        },
        "id": "PO09wHnSY62r",
        "outputId": "4dbe2a5e-04d7-4c94-dde7-67f9469e9fab"
      },
      "source": [
        "ts_df = pd.read_csv(os.path.join(BASE_PATH, 'test_data.csv'))\r\n",
        "ts_df.head()"
      ],
      "execution_count": null,
      "outputs": [
        {
          "output_type": "execute_result",
          "data": {
            "text/html": [
              "<div>\n",
              "<style scoped>\n",
              "    .dataframe tbody tr th:only-of-type {\n",
              "        vertical-align: middle;\n",
              "    }\n",
              "\n",
              "    .dataframe tbody tr th {\n",
              "        vertical-align: top;\n",
              "    }\n",
              "\n",
              "    .dataframe thead th {\n",
              "        text-align: right;\n",
              "    }\n",
              "</style>\n",
              "<table border=\"1\" class=\"dataframe\">\n",
              "  <thead>\n",
              "    <tr style=\"text-align: right;\">\n",
              "      <th></th>\n",
              "      <th>text</th>\n",
              "      <th>sentiment</th>\n",
              "    </tr>\n",
              "  </thead>\n",
              "  <tbody>\n",
              "    <tr>\n",
              "      <th>0</th>\n",
              "      <td>Nkluvr4eva My poor little dumpling In Holmdel...</td>\n",
              "      <td>0</td>\n",
              "    </tr>\n",
              "    <tr>\n",
              "      <th>1</th>\n",
              "      <td>I m off too bed I gotta wake up hella early to...</td>\n",
              "      <td>0</td>\n",
              "    </tr>\n",
              "    <tr>\n",
              "      <th>2</th>\n",
              "      <td>I havent been able to listen to it yet My spea...</td>\n",
              "      <td>0</td>\n",
              "    </tr>\n",
              "    <tr>\n",
              "      <th>3</th>\n",
              "      <td>now remembers why solving a relatively big equ...</td>\n",
              "      <td>0</td>\n",
              "    </tr>\n",
              "    <tr>\n",
              "      <th>4</th>\n",
              "      <td>Ate too much feel sick</td>\n",
              "      <td>0</td>\n",
              "    </tr>\n",
              "  </tbody>\n",
              "</table>\n",
              "</div>"
            ],
            "text/plain": [
              "                                                text  sentiment\n",
              "0   Nkluvr4eva My poor little dumpling In Holmdel...          0\n",
              "1  I m off too bed I gotta wake up hella early to...          0\n",
              "2  I havent been able to listen to it yet My spea...          0\n",
              "3  now remembers why solving a relatively big equ...          0\n",
              "4                            Ate too much feel sick           0"
            ]
          },
          "metadata": {
            "tags": []
          },
          "execution_count": 4
        }
      ]
    },
    {
      "cell_type": "markdown",
      "metadata": {
        "id": "ihoVxsBWdWYJ"
      },
      "source": [
        "#DATA PREPROCESSING"
      ]
    },
    {
      "cell_type": "code",
      "metadata": {
        "id": "8tS2_T0OdIHW"
      },
      "source": [
        "import os\r\n",
        "import pandas as pd\r\n",
        "import numpy as np\r\n",
        "import torch\r\n",
        "import spacy\r\n",
        "import torchtext\r\n",
        "from torchtext.legacy import data\r\n",
        "import random"
      ],
      "execution_count": null,
      "outputs": []
    },
    {
      "cell_type": "code",
      "metadata": {
        "id": "fovR_kD5dyem"
      },
      "source": [
        "from torchtext.legacy.data import Field\r\n",
        "\r\n",
        "Text = Field(\r\n",
        "    tokenize='spacy',\r\n",
        "    batch_first=True,\r\n",
        "    include_lengths=True,\r\n",
        "    fix_length=100,\r\n",
        ")\r\n",
        "\r\n",
        "Sentiment = Field(\r\n",
        "    sequential=False,\r\n",
        "    use_vocab=False,\r\n",
        "    pad_token=None,\r\n",
        "    unk_token=None\r\n",
        ")"
      ],
      "execution_count": null,
      "outputs": []
    },
    {
      "cell_type": "code",
      "metadata": {
        "id": "fTeH59Vdgi-w"
      },
      "source": [
        "# Connecting Field objects to their respective columns\r\n",
        "\r\n",
        "fields = (('text', Text), ('sentiment', Sentiment))"
      ],
      "execution_count": null,
      "outputs": []
    },
    {
      "cell_type": "code",
      "metadata": {
        "id": "MXH_sDBwWXkH"
      },
      "source": [
        "from torchtext.legacy.data import TabularDataset"
      ],
      "execution_count": null,
      "outputs": []
    },
    {
      "cell_type": "code",
      "metadata": {
        "id": "_mFUXysRXMe6"
      },
      "source": [
        "train_dataset, test_dataset = TabularDataset.splits(\r\n",
        "    path=BASE_PATH,\r\n",
        "    train='train_data.csv',\r\n",
        "    test='test_data.csv',\r\n",
        "    format='csv',\r\n",
        "    fields=fields,\r\n",
        "    skip_header=True\r\n",
        ")"
      ],
      "execution_count": null,
      "outputs": []
    },
    {
      "cell_type": "code",
      "metadata": {
        "colab": {
          "base_uri": "https://localhost:8080/"
        },
        "id": "fLLEfVoFXnh1",
        "outputId": "04468318-91c1-4a55-fd3c-e97ed7e6775c"
      },
      "source": [
        "print(vars(train_dataset[0]))\r\n",
        "print(vars(test_dataset[0]))"
      ],
      "execution_count": null,
      "outputs": [
        {
          "output_type": "stream",
          "text": [
            "{'text': ['just', 'saw', 'your', 'picture', 'and', 'my', 'heart', 'melted'], 'sentiment': '1'}\n",
            "{'text': [' ', 'Nkluvr4eva', 'My', 'poor', 'little', 'dumpling', 'In', 'Holmdel', 'vids', 'he', 'was', 'really', 'trying', 'Hope', 'he', 'do', 'nt', 'try', 'to', 'hard', 'tonight', 'xx'], 'sentiment': '0'}\n"
          ],
          "name": "stdout"
        }
      ]
    },
    {
      "cell_type": "code",
      "metadata": {
        "id": "c_Gxh8SvYMj1"
      },
      "source": [
        "train_dataset, valid_dataset = train_dataset.split(split_ratio=0.8, random_state=random.seed(42))"
      ],
      "execution_count": null,
      "outputs": []
    },
    {
      "cell_type": "code",
      "metadata": {
        "id": "PqHKhpwBar95"
      },
      "source": [
        "# Text.build_vocab(train_dataset, valid_dataset, max_size=5000)\r\n",
        "# Sentiment.build_vocab(train_dataset)"
      ],
      "execution_count": null,
      "outputs": []
    },
    {
      "cell_type": "code",
      "metadata": {
        "id": "IOyi1pVPbGD7"
      },
      "source": [
        "# Text.vocab"
      ],
      "execution_count": null,
      "outputs": []
    },
    {
      "cell_type": "code",
      "metadata": {
        "id": "NfS9zIFVbMTl"
      },
      "source": [
        "# len(Text.vocab.stoi)"
      ],
      "execution_count": null,
      "outputs": []
    },
    {
      "cell_type": "code",
      "metadata": {
        "id": "Foq4ubQZbPrA"
      },
      "source": [
        "# len(Sentiment.vocab.stoi)"
      ],
      "execution_count": null,
      "outputs": []
    },
    {
      "cell_type": "code",
      "metadata": {
        "id": "ong_152FbSTx"
      },
      "source": [
        "# Sentiment.vocab.stoi"
      ],
      "execution_count": null,
      "outputs": []
    },
    {
      "cell_type": "code",
      "metadata": {
        "id": "uYmg3RyabdYQ"
      },
      "source": [
        "from torchtext import vocab\r\n",
        "\r\n",
        "embeddings = vocab.Vectors('glove.twitter.27B.100d.txt', BASE_PATH)\r\n",
        "\r\n",
        "Text.build_vocab(train_dataset, valid_dataset, max_size=5000, vectors=embeddings)\r\n",
        "Sentiment.build_vocab(train_dataset)"
      ],
      "execution_count": null,
      "outputs": []
    },
    {
      "cell_type": "code",
      "metadata": {
        "id": "ymbF-B9Tg0nq"
      },
      "source": [
        "# Setting up GPU\r\n",
        "\r\n",
        "device = torch.device('cuda' if torch.cuda.is_available() else 'cpu')"
      ],
      "execution_count": null,
      "outputs": []
    },
    {
      "cell_type": "code",
      "metadata": {
        "id": "XmLqb3ZimfCd"
      },
      "source": [
        "train_iterator, valid_iterator, test_iterator = data.BucketIterator.splits(\r\n",
        "    (train_dataset, valid_dataset, test_dataset),\r\n",
        "    batch_size=50,\r\n",
        "    sort_key = lambda x: len(x.text),\r\n",
        "    sort_within_batch=True,\r\n",
        "    device=device\r\n",
        ")"
      ],
      "execution_count": null,
      "outputs": []
    },
    {
      "cell_type": "code",
      "metadata": {
        "id": "56-RnYGTm0d0"
      },
      "source": [
        "import torch\r\n",
        "import torch.nn as nn\r\n",
        "import torch.nn.functional as F"
      ],
      "execution_count": null,
      "outputs": []
    },
    {
      "cell_type": "code",
      "metadata": {
        "id": "gRFk94xrbXB4"
      },
      "source": [
        "class CnnModel(nn.Module):\r\n",
        "    def __init__(self, vocab_size, embed_size, num_filters, filter_sizes, output_classes, dropout):\r\n",
        "        super().__init__()\r\n",
        "        self.vocab_size = vocab_size\r\n",
        "        self.embed_size = embed_size\r\n",
        "        self.num_filters = num_filters\r\n",
        "        self.filter_sizes = filter_sizes\r\n",
        "        self.output_classes = output_classes\r\n",
        "        self.dropout = dropout\r\n",
        "\r\n",
        "        # Embedding layer\r\n",
        "        self.embedding = nn.Embedding(vocab_size, embed_size)\r\n",
        "        self.convs = nn.ModuleList([\r\n",
        "                                    nn.Conv2d(\r\n",
        "                                        in_channels=1, \r\n",
        "                                        out_channels=num_filters,\r\n",
        "                                        kernel_size=(fs, embed_size)) \r\n",
        "                                    for fs in filter_sizes\r\n",
        "        ])\r\n",
        "        self.fc = nn.Linear(len(filter_sizes) * num_filters, output_classes)\r\n",
        "        self.dropout = nn.Dropout(dropout)\r\n",
        "\r\n",
        "    def forward(self, text, text_lengths):\r\n",
        "        embedded = self.embedding(text)\r\n",
        "        embedded = embedded.unsqueeze(1)\r\n",
        "\r\n",
        "        conved = [F.relu(conv(embedded)).squeeze(3) for conv in self.convs]\r\n",
        "        pooled = [F.max_pool1d(conv, conv.shape[2]).squeeze(2) for conv in conved]\r\n",
        "\r\n",
        "        cat = self.dropout(torch.cat(pooled, dim=1))\r\n",
        "        return self.fc(cat)"
      ],
      "execution_count": null,
      "outputs": []
    },
    {
      "cell_type": "code",
      "metadata": {
        "id": "pUUfCPK-fBKO"
      },
      "source": [
        "vocab_size = len(Text.vocab)\r\n",
        "embed_size = 100\r\n",
        "num_filters = 100\r\n",
        "filter_sizes = [3, 4, 5]\r\n",
        "output_classes = 2\r\n",
        "dropout = 0.8\r\n",
        "\r\n",
        "model = CnnModel(vocab_size, embed_size, num_filters, filter_sizes, \r\n",
        "                 output_classes, dropout)\r\n",
        "\r\n",
        "model = model.to(device)"
      ],
      "execution_count": null,
      "outputs": []
    },
    {
      "cell_type": "code",
      "metadata": {
        "colab": {
          "base_uri": "https://localhost:8080/"
        },
        "id": "pCLNd3BOfiNv",
        "outputId": "98dde264-257a-43a8-e983-bc208b14ccb6"
      },
      "source": [
        "print(model)"
      ],
      "execution_count": null,
      "outputs": [
        {
          "output_type": "stream",
          "text": [
            "CnnModel(\n",
            "  (embedding): Embedding(5002, 100)\n",
            "  (convs): ModuleList(\n",
            "    (0): Conv2d(1, 100, kernel_size=(3, 100), stride=(1, 1))\n",
            "    (1): Conv2d(1, 100, kernel_size=(4, 100), stride=(1, 1))\n",
            "    (2): Conv2d(1, 100, kernel_size=(5, 100), stride=(1, 1))\n",
            "  )\n",
            "  (fc): Linear(in_features=300, out_features=2, bias=True)\n",
            "  (dropout): Dropout(p=0.8, inplace=False)\n",
            ")\n"
          ],
          "name": "stdout"
        }
      ]
    },
    {
      "cell_type": "code",
      "metadata": {
        "id": "KAaTvZgefmjs"
      },
      "source": [
        "import torch.optim as optim"
      ],
      "execution_count": null,
      "outputs": []
    },
    {
      "cell_type": "code",
      "metadata": {
        "id": "wGegquJyfzd0"
      },
      "source": [
        "optimizer = optim.Adam(model.parameters())\r\n",
        "# Criterion = loss_function\r\n",
        "criterion = nn.CrossEntropyLoss()\r\n",
        "\r\n",
        "criterion = criterion.to(device)"
      ],
      "execution_count": null,
      "outputs": []
    },
    {
      "cell_type": "code",
      "metadata": {
        "id": "EqMfu-HvgPTR"
      },
      "source": [
        "def accuracy(probs, target):\r\n",
        "    prediction = probs.argmax(dim=1)\r\n",
        "    corrects = (prediction == target)\r\n",
        "    accuracy = corrects.sum().float() / float(target.size(0))\r\n",
        "    return accuracy"
      ],
      "execution_count": null,
      "outputs": []
    },
    {
      "cell_type": "code",
      "metadata": {
        "id": "6jwPk9G2g0_H"
      },
      "source": [
        "def train(model, iterator, optimizer, criterion):\r\n",
        "    epoch_loss = 0\r\n",
        "    epoch_acc = 0\r\n",
        "    for batch in iterator:\r\n",
        "        optimizer.zero_grad()\r\n",
        "        text, text_lengths = batch.text\r\n",
        "        predictions = model(text, text_lengths)\r\n",
        "        loss = criterion(predictions, batch.sentiment.squeeze())\r\n",
        "        acc = accuracy(predictions, batch.sentiment)\r\n",
        "        loss.backward()\r\n",
        "        optimizer.step()\r\n",
        "        epoch_loss += loss.item()\r\n",
        "        epoch_acc += acc.item()\r\n",
        "    return epoch_loss / len(iterator), epoch_acc / len(iterator)"
      ],
      "execution_count": null,
      "outputs": []
    },
    {
      "cell_type": "code",
      "metadata": {
        "id": "VugACY5lhbUi"
      },
      "source": [
        "def evaluate(model, iterator, criterion):\r\n",
        "    epoch_loss = 0\r\n",
        "    epoch_acc = 0\r\n",
        "    model.eval()\r\n",
        "    with torch.no_grad():\r\n",
        "        for batch in iterator:\r\n",
        "            text, text_lengths = batch.text\r\n",
        "            predictions = model(text, text_lengths).squeeze(1)\r\n",
        "            loss = criterion(predictions, batch.sentiment)\r\n",
        "            acc = accuracy(predictions, batch.sentiment)\r\n",
        "            epoch_loss += loss.item()\r\n",
        "            epoch_acc += acc.item()\r\n",
        "    return epoch_loss / len(iterator), epoch_acc / len(iterator)"
      ],
      "execution_count": null,
      "outputs": []
    },
    {
      "cell_type": "code",
      "metadata": {
        "id": "14d5nIO6hl-E"
      },
      "source": [
        "def run_train(epochs, model, train_iterator, valid_iterator, optimizer, criterion, model_type):\r\n",
        "    best_valid_loss = float('inf')\r\n",
        "\r\n",
        "    for epoch in range(epochs):\r\n",
        "\r\n",
        "        # train the model\r\n",
        "        train_loss, train_acc = train(model, train_iterator,    optimizer, criterion)\r\n",
        "\r\n",
        "        # evaluate the model\r\n",
        "        valid_loss, valid_acc = evaluate(model, valid_iterator, criterion)\r\n",
        "\r\n",
        "        # save the best model\r\n",
        "        if valid_loss < best_valid_loss:\r\n",
        "            best_valid_loss = valid_loss\r\n",
        "            torch.save(model.state_dict(), 'saved_weights'+'_'+model_type+'.pt')\r\n",
        "\r\n",
        "        print(f'\\tTrain Loss: {train_loss:.3f} | Train Acc: {train_acc * 100:.2f}%')\r\n",
        "        print(f'\\t Val. Loss: {valid_loss:.3f} |  Val. Acc: {valid_acc * 100:.2f}%')"
      ],
      "execution_count": null,
      "outputs": []
    },
    {
      "cell_type": "code",
      "metadata": {
        "colab": {
          "base_uri": "https://localhost:8080/"
        },
        "id": "42qynzsNhrZs",
        "outputId": "142c5d70-7545-49dd-ff8e-20a0eb4e9420"
      },
      "source": [
        "run_train(10, model, train_iterator, valid_iterator, optimizer, criterion, 'Convolutional')"
      ],
      "execution_count": null,
      "outputs": [
        {
          "output_type": "stream",
          "text": [
            "\tTrain Loss: 0.519 | Train Acc: 75.18%\n",
            "\t Val. Loss: 0.453 |  Val. Acc: 79.00%\n",
            "\tTrain Loss: 0.426 | Train Acc: 80.40%\n",
            "\t Val. Loss: 0.418 |  Val. Acc: 80.83%\n",
            "\tTrain Loss: 0.406 | Train Acc: 81.52%\n",
            "\t Val. Loss: 0.415 |  Val. Acc: 81.16%\n",
            "\tTrain Loss: 0.392 | Train Acc: 82.29%\n",
            "\t Val. Loss: 0.414 |  Val. Acc: 81.08%\n",
            "\tTrain Loss: 0.377 | Train Acc: 83.09%\n",
            "\t Val. Loss: 0.420 |  Val. Acc: 80.94%\n",
            "\tTrain Loss: 0.362 | Train Acc: 83.91%\n",
            "\t Val. Loss: 0.438 |  Val. Acc: 80.72%\n",
            "\tTrain Loss: 0.347 | Train Acc: 84.71%\n",
            "\t Val. Loss: 0.445 |  Val. Acc: 80.73%\n",
            "\tTrain Loss: 0.332 | Train Acc: 85.43%\n",
            "\t Val. Loss: 0.462 |  Val. Acc: 80.31%\n",
            "\tTrain Loss: 0.318 | Train Acc: 86.15%\n",
            "\t Val. Loss: 0.485 |  Val. Acc: 80.17%\n",
            "\tTrain Loss: 0.306 | Train Acc: 86.75%\n",
            "\t Val. Loss: 0.505 |  Val. Acc: 79.85%\n"
          ],
          "name": "stdout"
        }
      ]
    }
  ]
}