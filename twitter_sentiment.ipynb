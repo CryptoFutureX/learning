{
  "nbformat": 4,
  "nbformat_minor": 0,
  "metadata": {
    "colab": {
      "name": "twitter_sentiment.ipynb",
      "provenance": [],
      "collapsed_sections": []
    },
    "kernelspec": {
      "name": "python3",
      "display_name": "Python 3"
    },
    "accelerator": "GPU",
    "widgets": {
      "application/vnd.jupyter.widget-state+json": {
        "77d40846a57b4078be6dc210cf7d6802": {
          "model_module": "@jupyter-widgets/controls",
          "model_name": "HBoxModel",
          "state": {
            "_view_name": "HBoxView",
            "_dom_classes": [],
            "_model_name": "HBoxModel",
            "_view_module": "@jupyter-widgets/controls",
            "_model_module_version": "1.5.0",
            "_view_count": null,
            "_view_module_version": "1.5.0",
            "box_style": "",
            "layout": "IPY_MODEL_0a7566c801ca40a49b0534950a3f6f95",
            "_model_module": "@jupyter-widgets/controls",
            "children": [
              "IPY_MODEL_57602c15b3554d41a448df5352c1f30f",
              "IPY_MODEL_bd50c72edc5248739c143d41dfaecfea"
            ]
          }
        },
        "0a7566c801ca40a49b0534950a3f6f95": {
          "model_module": "@jupyter-widgets/base",
          "model_name": "LayoutModel",
          "state": {
            "_view_name": "LayoutView",
            "grid_template_rows": null,
            "right": null,
            "justify_content": null,
            "_view_module": "@jupyter-widgets/base",
            "overflow": null,
            "_model_module_version": "1.2.0",
            "_view_count": null,
            "flex_flow": null,
            "width": null,
            "min_width": null,
            "border": null,
            "align_items": null,
            "bottom": null,
            "_model_module": "@jupyter-widgets/base",
            "top": null,
            "grid_column": null,
            "overflow_y": null,
            "overflow_x": null,
            "grid_auto_flow": null,
            "grid_area": null,
            "grid_template_columns": null,
            "flex": null,
            "_model_name": "LayoutModel",
            "justify_items": null,
            "grid_row": null,
            "max_height": null,
            "align_content": null,
            "visibility": null,
            "align_self": null,
            "height": null,
            "min_height": null,
            "padding": null,
            "grid_auto_rows": null,
            "grid_gap": null,
            "max_width": null,
            "order": null,
            "_view_module_version": "1.2.0",
            "grid_template_areas": null,
            "object_position": null,
            "object_fit": null,
            "grid_auto_columns": null,
            "margin": null,
            "display": null,
            "left": null
          }
        },
        "57602c15b3554d41a448df5352c1f30f": {
          "model_module": "@jupyter-widgets/controls",
          "model_name": "FloatProgressModel",
          "state": {
            "_view_name": "ProgressView",
            "style": "IPY_MODEL_f06ac0bafc264c41bd1cd53ac375fc22",
            "_dom_classes": [],
            "description": "Downloading: 100%",
            "_model_name": "FloatProgressModel",
            "bar_style": "success",
            "max": 231508,
            "_view_module": "@jupyter-widgets/controls",
            "_model_module_version": "1.5.0",
            "value": 231508,
            "_view_count": null,
            "_view_module_version": "1.5.0",
            "orientation": "horizontal",
            "min": 0,
            "description_tooltip": null,
            "_model_module": "@jupyter-widgets/controls",
            "layout": "IPY_MODEL_1aeb0e9ea99143a8820c3736ee17171c"
          }
        },
        "bd50c72edc5248739c143d41dfaecfea": {
          "model_module": "@jupyter-widgets/controls",
          "model_name": "HTMLModel",
          "state": {
            "_view_name": "HTMLView",
            "style": "IPY_MODEL_3325df076f2a444293f8444da031da5f",
            "_dom_classes": [],
            "description": "",
            "_model_name": "HTMLModel",
            "placeholder": "​",
            "_view_module": "@jupyter-widgets/controls",
            "_model_module_version": "1.5.0",
            "value": " 232k/232k [00:00&lt;00:00, 831kB/s]",
            "_view_count": null,
            "_view_module_version": "1.5.0",
            "description_tooltip": null,
            "_model_module": "@jupyter-widgets/controls",
            "layout": "IPY_MODEL_8c527bf8544e496c97c2d7781800c835"
          }
        },
        "f06ac0bafc264c41bd1cd53ac375fc22": {
          "model_module": "@jupyter-widgets/controls",
          "model_name": "ProgressStyleModel",
          "state": {
            "_view_name": "StyleView",
            "_model_name": "ProgressStyleModel",
            "description_width": "initial",
            "_view_module": "@jupyter-widgets/base",
            "_model_module_version": "1.5.0",
            "_view_count": null,
            "_view_module_version": "1.2.0",
            "bar_color": null,
            "_model_module": "@jupyter-widgets/controls"
          }
        },
        "1aeb0e9ea99143a8820c3736ee17171c": {
          "model_module": "@jupyter-widgets/base",
          "model_name": "LayoutModel",
          "state": {
            "_view_name": "LayoutView",
            "grid_template_rows": null,
            "right": null,
            "justify_content": null,
            "_view_module": "@jupyter-widgets/base",
            "overflow": null,
            "_model_module_version": "1.2.0",
            "_view_count": null,
            "flex_flow": null,
            "width": null,
            "min_width": null,
            "border": null,
            "align_items": null,
            "bottom": null,
            "_model_module": "@jupyter-widgets/base",
            "top": null,
            "grid_column": null,
            "overflow_y": null,
            "overflow_x": null,
            "grid_auto_flow": null,
            "grid_area": null,
            "grid_template_columns": null,
            "flex": null,
            "_model_name": "LayoutModel",
            "justify_items": null,
            "grid_row": null,
            "max_height": null,
            "align_content": null,
            "visibility": null,
            "align_self": null,
            "height": null,
            "min_height": null,
            "padding": null,
            "grid_auto_rows": null,
            "grid_gap": null,
            "max_width": null,
            "order": null,
            "_view_module_version": "1.2.0",
            "grid_template_areas": null,
            "object_position": null,
            "object_fit": null,
            "grid_auto_columns": null,
            "margin": null,
            "display": null,
            "left": null
          }
        },
        "3325df076f2a444293f8444da031da5f": {
          "model_module": "@jupyter-widgets/controls",
          "model_name": "DescriptionStyleModel",
          "state": {
            "_view_name": "StyleView",
            "_model_name": "DescriptionStyleModel",
            "description_width": "",
            "_view_module": "@jupyter-widgets/base",
            "_model_module_version": "1.5.0",
            "_view_count": null,
            "_view_module_version": "1.2.0",
            "_model_module": "@jupyter-widgets/controls"
          }
        },
        "8c527bf8544e496c97c2d7781800c835": {
          "model_module": "@jupyter-widgets/base",
          "model_name": "LayoutModel",
          "state": {
            "_view_name": "LayoutView",
            "grid_template_rows": null,
            "right": null,
            "justify_content": null,
            "_view_module": "@jupyter-widgets/base",
            "overflow": null,
            "_model_module_version": "1.2.0",
            "_view_count": null,
            "flex_flow": null,
            "width": null,
            "min_width": null,
            "border": null,
            "align_items": null,
            "bottom": null,
            "_model_module": "@jupyter-widgets/base",
            "top": null,
            "grid_column": null,
            "overflow_y": null,
            "overflow_x": null,
            "grid_auto_flow": null,
            "grid_area": null,
            "grid_template_columns": null,
            "flex": null,
            "_model_name": "LayoutModel",
            "justify_items": null,
            "grid_row": null,
            "max_height": null,
            "align_content": null,
            "visibility": null,
            "align_self": null,
            "height": null,
            "min_height": null,
            "padding": null,
            "grid_auto_rows": null,
            "grid_gap": null,
            "max_width": null,
            "order": null,
            "_view_module_version": "1.2.0",
            "grid_template_areas": null,
            "object_position": null,
            "object_fit": null,
            "grid_auto_columns": null,
            "margin": null,
            "display": null,
            "left": null
          }
        },
        "b5699461c54449d6ad78085553ea3f6b": {
          "model_module": "@jupyter-widgets/controls",
          "model_name": "HBoxModel",
          "state": {
            "_view_name": "HBoxView",
            "_dom_classes": [],
            "_model_name": "HBoxModel",
            "_view_module": "@jupyter-widgets/controls",
            "_model_module_version": "1.5.0",
            "_view_count": null,
            "_view_module_version": "1.5.0",
            "box_style": "",
            "layout": "IPY_MODEL_fb1903a9116c4e03bb34d4e5627e094b",
            "_model_module": "@jupyter-widgets/controls",
            "children": [
              "IPY_MODEL_70ab703c2b4a4c9bbbf7d22a8770319a",
              "IPY_MODEL_ebd496f1c417418d93877ce834dafe06"
            ]
          }
        },
        "fb1903a9116c4e03bb34d4e5627e094b": {
          "model_module": "@jupyter-widgets/base",
          "model_name": "LayoutModel",
          "state": {
            "_view_name": "LayoutView",
            "grid_template_rows": null,
            "right": null,
            "justify_content": null,
            "_view_module": "@jupyter-widgets/base",
            "overflow": null,
            "_model_module_version": "1.2.0",
            "_view_count": null,
            "flex_flow": null,
            "width": null,
            "min_width": null,
            "border": null,
            "align_items": null,
            "bottom": null,
            "_model_module": "@jupyter-widgets/base",
            "top": null,
            "grid_column": null,
            "overflow_y": null,
            "overflow_x": null,
            "grid_auto_flow": null,
            "grid_area": null,
            "grid_template_columns": null,
            "flex": null,
            "_model_name": "LayoutModel",
            "justify_items": null,
            "grid_row": null,
            "max_height": null,
            "align_content": null,
            "visibility": null,
            "align_self": null,
            "height": null,
            "min_height": null,
            "padding": null,
            "grid_auto_rows": null,
            "grid_gap": null,
            "max_width": null,
            "order": null,
            "_view_module_version": "1.2.0",
            "grid_template_areas": null,
            "object_position": null,
            "object_fit": null,
            "grid_auto_columns": null,
            "margin": null,
            "display": null,
            "left": null
          }
        },
        "70ab703c2b4a4c9bbbf7d22a8770319a": {
          "model_module": "@jupyter-widgets/controls",
          "model_name": "FloatProgressModel",
          "state": {
            "_view_name": "ProgressView",
            "style": "IPY_MODEL_29e26e97c6d64904a78dbf2947cb890b",
            "_dom_classes": [],
            "description": "Downloading: 100%",
            "_model_name": "FloatProgressModel",
            "bar_style": "success",
            "max": 433,
            "_view_module": "@jupyter-widgets/controls",
            "_model_module_version": "1.5.0",
            "value": 433,
            "_view_count": null,
            "_view_module_version": "1.5.0",
            "orientation": "horizontal",
            "min": 0,
            "description_tooltip": null,
            "_model_module": "@jupyter-widgets/controls",
            "layout": "IPY_MODEL_f3a685e5053a4eaeb046126a04a21b23"
          }
        },
        "ebd496f1c417418d93877ce834dafe06": {
          "model_module": "@jupyter-widgets/controls",
          "model_name": "HTMLModel",
          "state": {
            "_view_name": "HTMLView",
            "style": "IPY_MODEL_4313fc4a2d104ab3bfc9d8a773e65a6e",
            "_dom_classes": [],
            "description": "",
            "_model_name": "HTMLModel",
            "placeholder": "​",
            "_view_module": "@jupyter-widgets/controls",
            "_model_module_version": "1.5.0",
            "value": " 433/433 [00:00&lt;00:00, 1.79kB/s]",
            "_view_count": null,
            "_view_module_version": "1.5.0",
            "description_tooltip": null,
            "_model_module": "@jupyter-widgets/controls",
            "layout": "IPY_MODEL_666b088c9ad748ec953f37d7392fe0a7"
          }
        },
        "29e26e97c6d64904a78dbf2947cb890b": {
          "model_module": "@jupyter-widgets/controls",
          "model_name": "ProgressStyleModel",
          "state": {
            "_view_name": "StyleView",
            "_model_name": "ProgressStyleModel",
            "description_width": "initial",
            "_view_module": "@jupyter-widgets/base",
            "_model_module_version": "1.5.0",
            "_view_count": null,
            "_view_module_version": "1.2.0",
            "bar_color": null,
            "_model_module": "@jupyter-widgets/controls"
          }
        },
        "f3a685e5053a4eaeb046126a04a21b23": {
          "model_module": "@jupyter-widgets/base",
          "model_name": "LayoutModel",
          "state": {
            "_view_name": "LayoutView",
            "grid_template_rows": null,
            "right": null,
            "justify_content": null,
            "_view_module": "@jupyter-widgets/base",
            "overflow": null,
            "_model_module_version": "1.2.0",
            "_view_count": null,
            "flex_flow": null,
            "width": null,
            "min_width": null,
            "border": null,
            "align_items": null,
            "bottom": null,
            "_model_module": "@jupyter-widgets/base",
            "top": null,
            "grid_column": null,
            "overflow_y": null,
            "overflow_x": null,
            "grid_auto_flow": null,
            "grid_area": null,
            "grid_template_columns": null,
            "flex": null,
            "_model_name": "LayoutModel",
            "justify_items": null,
            "grid_row": null,
            "max_height": null,
            "align_content": null,
            "visibility": null,
            "align_self": null,
            "height": null,
            "min_height": null,
            "padding": null,
            "grid_auto_rows": null,
            "grid_gap": null,
            "max_width": null,
            "order": null,
            "_view_module_version": "1.2.0",
            "grid_template_areas": null,
            "object_position": null,
            "object_fit": null,
            "grid_auto_columns": null,
            "margin": null,
            "display": null,
            "left": null
          }
        },
        "4313fc4a2d104ab3bfc9d8a773e65a6e": {
          "model_module": "@jupyter-widgets/controls",
          "model_name": "DescriptionStyleModel",
          "state": {
            "_view_name": "StyleView",
            "_model_name": "DescriptionStyleModel",
            "description_width": "",
            "_view_module": "@jupyter-widgets/base",
            "_model_module_version": "1.5.0",
            "_view_count": null,
            "_view_module_version": "1.2.0",
            "_model_module": "@jupyter-widgets/controls"
          }
        },
        "666b088c9ad748ec953f37d7392fe0a7": {
          "model_module": "@jupyter-widgets/base",
          "model_name": "LayoutModel",
          "state": {
            "_view_name": "LayoutView",
            "grid_template_rows": null,
            "right": null,
            "justify_content": null,
            "_view_module": "@jupyter-widgets/base",
            "overflow": null,
            "_model_module_version": "1.2.0",
            "_view_count": null,
            "flex_flow": null,
            "width": null,
            "min_width": null,
            "border": null,
            "align_items": null,
            "bottom": null,
            "_model_module": "@jupyter-widgets/base",
            "top": null,
            "grid_column": null,
            "overflow_y": null,
            "overflow_x": null,
            "grid_auto_flow": null,
            "grid_area": null,
            "grid_template_columns": null,
            "flex": null,
            "_model_name": "LayoutModel",
            "justify_items": null,
            "grid_row": null,
            "max_height": null,
            "align_content": null,
            "visibility": null,
            "align_self": null,
            "height": null,
            "min_height": null,
            "padding": null,
            "grid_auto_rows": null,
            "grid_gap": null,
            "max_width": null,
            "order": null,
            "_view_module_version": "1.2.0",
            "grid_template_areas": null,
            "object_position": null,
            "object_fit": null,
            "grid_auto_columns": null,
            "margin": null,
            "display": null,
            "left": null
          }
        },
        "2fff52e1cde24d75a5157b5595ee8819": {
          "model_module": "@jupyter-widgets/controls",
          "model_name": "HBoxModel",
          "state": {
            "_view_name": "HBoxView",
            "_dom_classes": [],
            "_model_name": "HBoxModel",
            "_view_module": "@jupyter-widgets/controls",
            "_model_module_version": "1.5.0",
            "_view_count": null,
            "_view_module_version": "1.5.0",
            "box_style": "",
            "layout": "IPY_MODEL_2445f93ab68744c1a6aa70cfae26dfe4",
            "_model_module": "@jupyter-widgets/controls",
            "children": [
              "IPY_MODEL_19cc4dcce07141868462b6b004ff5538",
              "IPY_MODEL_3a23b5fe00134fe594fe110912dc9bc8"
            ]
          }
        },
        "2445f93ab68744c1a6aa70cfae26dfe4": {
          "model_module": "@jupyter-widgets/base",
          "model_name": "LayoutModel",
          "state": {
            "_view_name": "LayoutView",
            "grid_template_rows": null,
            "right": null,
            "justify_content": null,
            "_view_module": "@jupyter-widgets/base",
            "overflow": null,
            "_model_module_version": "1.2.0",
            "_view_count": null,
            "flex_flow": null,
            "width": null,
            "min_width": null,
            "border": null,
            "align_items": null,
            "bottom": null,
            "_model_module": "@jupyter-widgets/base",
            "top": null,
            "grid_column": null,
            "overflow_y": null,
            "overflow_x": null,
            "grid_auto_flow": null,
            "grid_area": null,
            "grid_template_columns": null,
            "flex": null,
            "_model_name": "LayoutModel",
            "justify_items": null,
            "grid_row": null,
            "max_height": null,
            "align_content": null,
            "visibility": null,
            "align_self": null,
            "height": null,
            "min_height": null,
            "padding": null,
            "grid_auto_rows": null,
            "grid_gap": null,
            "max_width": null,
            "order": null,
            "_view_module_version": "1.2.0",
            "grid_template_areas": null,
            "object_position": null,
            "object_fit": null,
            "grid_auto_columns": null,
            "margin": null,
            "display": null,
            "left": null
          }
        },
        "19cc4dcce07141868462b6b004ff5538": {
          "model_module": "@jupyter-widgets/controls",
          "model_name": "FloatProgressModel",
          "state": {
            "_view_name": "ProgressView",
            "style": "IPY_MODEL_bf2c711a8537402ea0822fb0b93fd7a0",
            "_dom_classes": [],
            "description": "Downloading: 100%",
            "_model_name": "FloatProgressModel",
            "bar_style": "success",
            "max": 440473133,
            "_view_module": "@jupyter-widgets/controls",
            "_model_module_version": "1.5.0",
            "value": 440473133,
            "_view_count": null,
            "_view_module_version": "1.5.0",
            "orientation": "horizontal",
            "min": 0,
            "description_tooltip": null,
            "_model_module": "@jupyter-widgets/controls",
            "layout": "IPY_MODEL_130f52cc21c54929932b3528b1a076c7"
          }
        },
        "3a23b5fe00134fe594fe110912dc9bc8": {
          "model_module": "@jupyter-widgets/controls",
          "model_name": "HTMLModel",
          "state": {
            "_view_name": "HTMLView",
            "style": "IPY_MODEL_f30883888ff247b8af7a37d0022850b0",
            "_dom_classes": [],
            "description": "",
            "_model_name": "HTMLModel",
            "placeholder": "​",
            "_view_module": "@jupyter-widgets/controls",
            "_model_module_version": "1.5.0",
            "value": " 440M/440M [00:07&lt;00:00, 58.0MB/s]",
            "_view_count": null,
            "_view_module_version": "1.5.0",
            "description_tooltip": null,
            "_model_module": "@jupyter-widgets/controls",
            "layout": "IPY_MODEL_ec14727bc71d44b8b401fb72ae5608a2"
          }
        },
        "bf2c711a8537402ea0822fb0b93fd7a0": {
          "model_module": "@jupyter-widgets/controls",
          "model_name": "ProgressStyleModel",
          "state": {
            "_view_name": "StyleView",
            "_model_name": "ProgressStyleModel",
            "description_width": "initial",
            "_view_module": "@jupyter-widgets/base",
            "_model_module_version": "1.5.0",
            "_view_count": null,
            "_view_module_version": "1.2.0",
            "bar_color": null,
            "_model_module": "@jupyter-widgets/controls"
          }
        },
        "130f52cc21c54929932b3528b1a076c7": {
          "model_module": "@jupyter-widgets/base",
          "model_name": "LayoutModel",
          "state": {
            "_view_name": "LayoutView",
            "grid_template_rows": null,
            "right": null,
            "justify_content": null,
            "_view_module": "@jupyter-widgets/base",
            "overflow": null,
            "_model_module_version": "1.2.0",
            "_view_count": null,
            "flex_flow": null,
            "width": null,
            "min_width": null,
            "border": null,
            "align_items": null,
            "bottom": null,
            "_model_module": "@jupyter-widgets/base",
            "top": null,
            "grid_column": null,
            "overflow_y": null,
            "overflow_x": null,
            "grid_auto_flow": null,
            "grid_area": null,
            "grid_template_columns": null,
            "flex": null,
            "_model_name": "LayoutModel",
            "justify_items": null,
            "grid_row": null,
            "max_height": null,
            "align_content": null,
            "visibility": null,
            "align_self": null,
            "height": null,
            "min_height": null,
            "padding": null,
            "grid_auto_rows": null,
            "grid_gap": null,
            "max_width": null,
            "order": null,
            "_view_module_version": "1.2.0",
            "grid_template_areas": null,
            "object_position": null,
            "object_fit": null,
            "grid_auto_columns": null,
            "margin": null,
            "display": null,
            "left": null
          }
        },
        "f30883888ff247b8af7a37d0022850b0": {
          "model_module": "@jupyter-widgets/controls",
          "model_name": "DescriptionStyleModel",
          "state": {
            "_view_name": "StyleView",
            "_model_name": "DescriptionStyleModel",
            "description_width": "",
            "_view_module": "@jupyter-widgets/base",
            "_model_module_version": "1.5.0",
            "_view_count": null,
            "_view_module_version": "1.2.0",
            "_model_module": "@jupyter-widgets/controls"
          }
        },
        "ec14727bc71d44b8b401fb72ae5608a2": {
          "model_module": "@jupyter-widgets/base",
          "model_name": "LayoutModel",
          "state": {
            "_view_name": "LayoutView",
            "grid_template_rows": null,
            "right": null,
            "justify_content": null,
            "_view_module": "@jupyter-widgets/base",
            "overflow": null,
            "_model_module_version": "1.2.0",
            "_view_count": null,
            "flex_flow": null,
            "width": null,
            "min_width": null,
            "border": null,
            "align_items": null,
            "bottom": null,
            "_model_module": "@jupyter-widgets/base",
            "top": null,
            "grid_column": null,
            "overflow_y": null,
            "overflow_x": null,
            "grid_auto_flow": null,
            "grid_area": null,
            "grid_template_columns": null,
            "flex": null,
            "_model_name": "LayoutModel",
            "justify_items": null,
            "grid_row": null,
            "max_height": null,
            "align_content": null,
            "visibility": null,
            "align_self": null,
            "height": null,
            "min_height": null,
            "padding": null,
            "grid_auto_rows": null,
            "grid_gap": null,
            "max_width": null,
            "order": null,
            "_view_module_version": "1.2.0",
            "grid_template_areas": null,
            "object_position": null,
            "object_fit": null,
            "grid_auto_columns": null,
            "margin": null,
            "display": null,
            "left": null
          }
        }
      }
    }
  },
  "cells": [
    {
      "cell_type": "markdown",
      "metadata": {
        "id": "BryPCQK1LvH3"
      },
      "source": [
        "#Twitter Sentiment Analysis using Sentiment140 dataset"
      ]
    },
    {
      "cell_type": "code",
      "metadata": {
        "id": "Gv1LKjeLLHKd",
        "colab": {
          "base_uri": "https://localhost:8080/"
        },
        "outputId": "77007367-61ef-431e-86c9-b7f2b4a7fb38"
      },
      "source": [
        "#Installing transformers library\n",
        "\n",
        "!pip install transformers --quiet"
      ],
      "execution_count": 1,
      "outputs": [
        {
          "output_type": "stream",
          "text": [
            "\u001b[K     |████████████████████████████████| 1.9MB 7.9MB/s \n",
            "\u001b[K     |████████████████████████████████| 3.2MB 38.5MB/s \n",
            "\u001b[K     |████████████████████████████████| 890kB 41.8MB/s \n",
            "\u001b[?25h  Building wheel for sacremoses (setup.py) ... \u001b[?25l\u001b[?25hdone\n"
          ],
          "name": "stdout"
        }
      ]
    },
    {
      "cell_type": "code",
      "metadata": {
        "id": "Jrrs8rSDNamW"
      },
      "source": [
        "# Importing required modules\n",
        "\n",
        "import transformers\n",
        "from transformers import BertModel, BertTokenizer, AdamW, get_linear_schedule_with_warmup\n",
        "import torch\n",
        "\n",
        "import os\n",
        "import numpy as np\n",
        "import pandas as pd\n",
        "import seaborn as sns\n",
        "from pylab import rcParams\n",
        "import matplotlib.pyplot as plt\n",
        "from matplotlib import rc\n",
        "from sklearn.model_selection import train_test_split\n",
        "from sklearn.metrics import confusion_matrix, classification_report\n",
        "from collections import defaultdict\n",
        "from textwrap import wrap\n",
        "\n",
        "from torch import nn, optim\n",
        "from torch.utils.data import Dataset, DataLoader\n",
        "import torch.nn.functional as F"
      ],
      "execution_count": 2,
      "outputs": []
    },
    {
      "cell_type": "code",
      "metadata": {
        "colab": {
          "base_uri": "https://localhost:8080/"
        },
        "id": "Zvr-FvD1ORSD",
        "outputId": "6b3eb2a2-8780-4995-a46d-82a18846816b"
      },
      "source": [
        "# Configuration\n",
        "\n",
        "%matplotlib inline\n",
        "%config InlineBackend.figure_format='retina'\n",
        "\n",
        "rcParams['figure.figsize'] = 8, 6\n",
        "\n",
        "RANDOM_SEED = 42\n",
        "np.random.seed(RANDOM_SEED)\n",
        "torch.manual_seed(RANDOM_SEED)\n",
        "\n",
        "if torch.cuda.is_available():\n",
        "    device = torch.device('cuda:0')\n",
        "else:\n",
        "    device = torch.device('cpu')\n",
        "\n",
        "device"
      ],
      "execution_count": 3,
      "outputs": [
        {
          "output_type": "execute_result",
          "data": {
            "text/plain": [
              "device(type='cuda', index=0)"
            ]
          },
          "metadata": {
            "tags": []
          },
          "execution_count": 3
        }
      ]
    },
    {
      "cell_type": "code",
      "metadata": {
        "colab": {
          "base_uri": "https://localhost:8080/",
          "height": 365
        },
        "id": "oRGrH-e2O3ro",
        "outputId": "338a874b-5456-459f-ba83-986abd8eceb5"
      },
      "source": [
        "# Reading the dataset\n",
        "\n",
        "project_path = '/content/drive/MyDrive/Cryptofuture/'\n",
        "train_data_path = os.path.join(project_path, 'traindata.csv')\n",
        "\n",
        "df = pd.read_csv(train_data_path, encoding='latin')\n",
        "\n",
        "df.sample(10)"
      ],
      "execution_count": 4,
      "outputs": [
        {
          "output_type": "execute_result",
          "data": {
            "text/html": [
              "<div>\n",
              "<style scoped>\n",
              "    .dataframe tbody tr th:only-of-type {\n",
              "        vertical-align: middle;\n",
              "    }\n",
              "\n",
              "    .dataframe tbody tr th {\n",
              "        vertical-align: top;\n",
              "    }\n",
              "\n",
              "    .dataframe thead th {\n",
              "        text-align: right;\n",
              "    }\n",
              "</style>\n",
              "<table border=\"1\" class=\"dataframe\">\n",
              "  <thead>\n",
              "    <tr style=\"text-align: right;\">\n",
              "      <th></th>\n",
              "      <th>0</th>\n",
              "      <th>1467810369</th>\n",
              "      <th>Mon Apr 06 22:19:45 PDT 2009</th>\n",
              "      <th>NO_QUERY</th>\n",
              "      <th>_TheSpecialOne_</th>\n",
              "      <th>@switchfoot http://twitpic.com/2y1zl - Awww, that's a bummer.  You shoulda got David Carr of Third Day to do it. ;D</th>\n",
              "    </tr>\n",
              "  </thead>\n",
              "  <tbody>\n",
              "    <tr>\n",
              "      <th>541200</th>\n",
              "      <td>0</td>\n",
              "      <td>2200003313</td>\n",
              "      <td>Tue Jun 16 18:18:13 PDT 2009</td>\n",
              "      <td>NO_QUERY</td>\n",
              "      <td>DEWGetMeTho77</td>\n",
              "      <td>@Nkluvr4eva My poor little dumpling  In Holmde...</td>\n",
              "    </tr>\n",
              "    <tr>\n",
              "      <th>750</th>\n",
              "      <td>0</td>\n",
              "      <td>1467998601</td>\n",
              "      <td>Mon Apr 06 23:11:18 PDT 2009</td>\n",
              "      <td>NO_QUERY</td>\n",
              "      <td>Young_J</td>\n",
              "      <td>I'm off too bed. I gotta wake up hella early t...</td>\n",
              "    </tr>\n",
              "    <tr>\n",
              "      <th>766711</th>\n",
              "      <td>0</td>\n",
              "      <td>2300049112</td>\n",
              "      <td>Tue Jun 23 13:40:12 PDT 2009</td>\n",
              "      <td>NO_QUERY</td>\n",
              "      <td>dougnawoschik</td>\n",
              "      <td>I havent been able to listen to it yet  My spe...</td>\n",
              "    </tr>\n",
              "    <tr>\n",
              "      <th>285055</th>\n",
              "      <td>0</td>\n",
              "      <td>1993474319</td>\n",
              "      <td>Mon Jun 01 10:26:09 PDT 2009</td>\n",
              "      <td>NO_QUERY</td>\n",
              "      <td>thireven</td>\n",
              "      <td>now remembers why solving a relatively big equ...</td>\n",
              "    </tr>\n",
              "    <tr>\n",
              "      <th>705995</th>\n",
              "      <td>0</td>\n",
              "      <td>2256551006</td>\n",
              "      <td>Sat Jun 20 12:56:51 PDT 2009</td>\n",
              "      <td>NO_QUERY</td>\n",
              "      <td>taracollins086</td>\n",
              "      <td>Ate too much, feel sick</td>\n",
              "    </tr>\n",
              "    <tr>\n",
              "      <th>379611</th>\n",
              "      <td>0</td>\n",
              "      <td>2052381070</td>\n",
              "      <td>Sat Jun 06 00:32:23 PDT 2009</td>\n",
              "      <td>NO_QUERY</td>\n",
              "      <td>Portablemonkey</td>\n",
              "      <td>Tried to purchase a parked domain through GoDa...</td>\n",
              "    </tr>\n",
              "    <tr>\n",
              "      <th>1189017</th>\n",
              "      <td>4</td>\n",
              "      <td>1983449090</td>\n",
              "      <td>Sun May 31 13:10:36 PDT 2009</td>\n",
              "      <td>NO_QUERY</td>\n",
              "      <td>jessig06</td>\n",
              "      <td>on lunch....dj should come eat with me</td>\n",
              "    </tr>\n",
              "    <tr>\n",
              "      <th>667030</th>\n",
              "      <td>0</td>\n",
              "      <td>2245480599</td>\n",
              "      <td>Fri Jun 19 16:11:34 PDT 2009</td>\n",
              "      <td>NO_QUERY</td>\n",
              "      <td>Aligrl</td>\n",
              "      <td>Just got back from VA Tech Equine Medical Cent...</td>\n",
              "    </tr>\n",
              "    <tr>\n",
              "      <th>93541</th>\n",
              "      <td>0</td>\n",
              "      <td>1770706008</td>\n",
              "      <td>Mon May 11 22:01:35 PDT 2009</td>\n",
              "      <td>NO_QUERY</td>\n",
              "      <td>leyyyy</td>\n",
              "      <td>can't log in to my other twitter account. supe...</td>\n",
              "    </tr>\n",
              "    <tr>\n",
              "      <th>1365937</th>\n",
              "      <td>4</td>\n",
              "      <td>2050057894</td>\n",
              "      <td>Fri Jun 05 17:59:34 PDT 2009</td>\n",
              "      <td>NO_QUERY</td>\n",
              "      <td>AmiAhuja</td>\n",
              "      <td>@TamaraSchilling Adventure - That's what we al...</td>\n",
              "    </tr>\n",
              "  </tbody>\n",
              "</table>\n",
              "</div>"
            ],
            "text/plain": [
              "         0  ...  @switchfoot http://twitpic.com/2y1zl - Awww, that's a bummer.  You shoulda got David Carr of Third Day to do it. ;D\n",
              "541200   0  ...  @Nkluvr4eva My poor little dumpling  In Holmde...                                                                  \n",
              "750      0  ...  I'm off too bed. I gotta wake up hella early t...                                                                  \n",
              "766711   0  ...  I havent been able to listen to it yet  My spe...                                                                  \n",
              "285055   0  ...  now remembers why solving a relatively big equ...                                                                  \n",
              "705995   0  ...                           Ate too much, feel sick                                                                   \n",
              "379611   0  ...  Tried to purchase a parked domain through GoDa...                                                                  \n",
              "1189017  4  ...            on lunch....dj should come eat with me                                                                   \n",
              "667030   0  ...  Just got back from VA Tech Equine Medical Cent...                                                                  \n",
              "93541    0  ...  can't log in to my other twitter account. supe...                                                                  \n",
              "1365937  4  ...  @TamaraSchilling Adventure - That's what we al...                                                                  \n",
              "\n",
              "[10 rows x 6 columns]"
            ]
          },
          "metadata": {
            "tags": []
          },
          "execution_count": 4
        }
      ]
    },
    {
      "cell_type": "code",
      "metadata": {
        "colab": {
          "base_uri": "https://localhost:8080/",
          "height": 198
        },
        "id": "MVGz1_apPWLx",
        "outputId": "b7f89d2f-e459-4732-d5e4-8989b624c32d"
      },
      "source": [
        "# Adding columns to the dataframe\n",
        "\n",
        "df.columns = ['targets', 'id', 'date', 'flag', 'user', 'tweets']\n",
        "\n",
        "df.sample(5)"
      ],
      "execution_count": 5,
      "outputs": [
        {
          "output_type": "execute_result",
          "data": {
            "text/html": [
              "<div>\n",
              "<style scoped>\n",
              "    .dataframe tbody tr th:only-of-type {\n",
              "        vertical-align: middle;\n",
              "    }\n",
              "\n",
              "    .dataframe tbody tr th {\n",
              "        vertical-align: top;\n",
              "    }\n",
              "\n",
              "    .dataframe thead th {\n",
              "        text-align: right;\n",
              "    }\n",
              "</style>\n",
              "<table border=\"1\" class=\"dataframe\">\n",
              "  <thead>\n",
              "    <tr style=\"text-align: right;\">\n",
              "      <th></th>\n",
              "      <th>targets</th>\n",
              "      <th>id</th>\n",
              "      <th>date</th>\n",
              "      <th>flag</th>\n",
              "      <th>user</th>\n",
              "      <th>tweets</th>\n",
              "    </tr>\n",
              "  </thead>\n",
              "  <tbody>\n",
              "    <tr>\n",
              "      <th>33408</th>\n",
              "      <td>0</td>\n",
              "      <td>1564500376</td>\n",
              "      <td>Mon Apr 20 03:47:11 PDT 2009</td>\n",
              "      <td>NO_QUERY</td>\n",
              "      <td>cheloneill</td>\n",
              "      <td>when the weathers so fab why do we have to wor...</td>\n",
              "    </tr>\n",
              "    <tr>\n",
              "      <th>1041124</th>\n",
              "      <td>4</td>\n",
              "      <td>1957039926</td>\n",
              "      <td>Thu May 28 23:21:01 PDT 2009</td>\n",
              "      <td>NO_QUERY</td>\n",
              "      <td>matthewdean</td>\n",
              "      <td>@shayboogs hahah I know Shay   And i luv the h...</td>\n",
              "    </tr>\n",
              "    <tr>\n",
              "      <th>832491</th>\n",
              "      <td>4</td>\n",
              "      <td>1557601864</td>\n",
              "      <td>Sun Apr 19 05:03:52 PDT 2009</td>\n",
              "      <td>NO_QUERY</td>\n",
              "      <td>sdsportschick</td>\n",
              "      <td>Headed out for an early morning hike!</td>\n",
              "    </tr>\n",
              "    <tr>\n",
              "      <th>948959</th>\n",
              "      <td>4</td>\n",
              "      <td>1823599100</td>\n",
              "      <td>Sat May 16 22:25:02 PDT 2009</td>\n",
              "      <td>NO_QUERY</td>\n",
              "      <td>jojovela</td>\n",
              "      <td>@ItsJustDi apparently the party is at your hou...</td>\n",
              "    </tr>\n",
              "    <tr>\n",
              "      <th>1562416</th>\n",
              "      <td>4</td>\n",
              "      <td>2186814798</td>\n",
              "      <td>Mon Jun 15 19:22:35 PDT 2009</td>\n",
              "      <td>NO_QUERY</td>\n",
              "      <td>jobrofan16</td>\n",
              "      <td>is with @jonasbrosfan1  going to buy LVATT tog...</td>\n",
              "    </tr>\n",
              "  </tbody>\n",
              "</table>\n",
              "</div>"
            ],
            "text/plain": [
              "         targets  ...                                             tweets\n",
              "33408          0  ...  when the weathers so fab why do we have to wor...\n",
              "1041124        4  ...  @shayboogs hahah I know Shay   And i luv the h...\n",
              "832491         4  ...             Headed out for an early morning hike! \n",
              "948959         4  ...  @ItsJustDi apparently the party is at your hou...\n",
              "1562416        4  ...  is with @jonasbrosfan1  going to buy LVATT tog...\n",
              "\n",
              "[5 rows x 6 columns]"
            ]
          },
          "metadata": {
            "tags": []
          },
          "execution_count": 5
        }
      ]
    },
    {
      "cell_type": "code",
      "metadata": {
        "id": "1dxklQMkP9am"
      },
      "source": [
        "# 0 - negative and 4 - positive\n",
        "# Normalizing in range 0-1\n",
        "\n",
        "def to_sentiment(target):\n",
        "    if target == 4:\n",
        "        return 1\n",
        "    else:\n",
        "        return 0"
      ],
      "execution_count": 6,
      "outputs": []
    },
    {
      "cell_type": "code",
      "metadata": {
        "colab": {
          "base_uri": "https://localhost:8080/",
          "height": 348
        },
        "id": "semG6n3yQPzt",
        "outputId": "e759a358-3043-471d-cb38-b618908553b5"
      },
      "source": [
        "df.targets = df.targets.apply(to_sentiment)\n",
        "df.sample(10)"
      ],
      "execution_count": 7,
      "outputs": [
        {
          "output_type": "execute_result",
          "data": {
            "text/html": [
              "<div>\n",
              "<style scoped>\n",
              "    .dataframe tbody tr th:only-of-type {\n",
              "        vertical-align: middle;\n",
              "    }\n",
              "\n",
              "    .dataframe tbody tr th {\n",
              "        vertical-align: top;\n",
              "    }\n",
              "\n",
              "    .dataframe thead th {\n",
              "        text-align: right;\n",
              "    }\n",
              "</style>\n",
              "<table border=\"1\" class=\"dataframe\">\n",
              "  <thead>\n",
              "    <tr style=\"text-align: right;\">\n",
              "      <th></th>\n",
              "      <th>targets</th>\n",
              "      <th>id</th>\n",
              "      <th>date</th>\n",
              "      <th>flag</th>\n",
              "      <th>user</th>\n",
              "      <th>tweets</th>\n",
              "    </tr>\n",
              "  </thead>\n",
              "  <tbody>\n",
              "    <tr>\n",
              "      <th>985984</th>\n",
              "      <td>1</td>\n",
              "      <td>1834526042</td>\n",
              "      <td>Mon May 18 03:16:11 PDT 2009</td>\n",
              "      <td>NO_QUERY</td>\n",
              "      <td>sankesolutions</td>\n",
              "      <td>@brianteeman Thats not far from here, oh well ...</td>\n",
              "    </tr>\n",
              "    <tr>\n",
              "      <th>737168</th>\n",
              "      <td>0</td>\n",
              "      <td>2265178205</td>\n",
              "      <td>Sun Jun 21 05:58:55 PDT 2009</td>\n",
              "      <td>NO_QUERY</td>\n",
              "      <td>JShastt</td>\n",
              "      <td>Birthday is over  but Happy Fathers Day!</td>\n",
              "    </tr>\n",
              "    <tr>\n",
              "      <th>1599434</th>\n",
              "      <td>1</td>\n",
              "      <td>2193450988</td>\n",
              "      <td>Tue Jun 16 08:28:35 PDT 2009</td>\n",
              "      <td>NO_QUERY</td>\n",
              "      <td>GGGKeri</td>\n",
              "      <td>@xomollydollyxo Exactly!</td>\n",
              "    </tr>\n",
              "    <tr>\n",
              "      <th>1566586</th>\n",
              "      <td>1</td>\n",
              "      <td>2187816613</td>\n",
              "      <td>Mon Jun 15 20:51:03 PDT 2009</td>\n",
              "      <td>NO_QUERY</td>\n",
              "      <td>rachellock22</td>\n",
              "      <td>I love when theres an update as soon as i wake...</td>\n",
              "    </tr>\n",
              "    <tr>\n",
              "      <th>920270</th>\n",
              "      <td>1</td>\n",
              "      <td>1753956450</td>\n",
              "      <td>Sun May 10 04:18:27 PDT 2009</td>\n",
              "      <td>NO_QUERY</td>\n",
              "      <td>Sophie_Julia</td>\n",
              "      <td>@DomHarvey meannn party hahaha  always a good ...</td>\n",
              "    </tr>\n",
              "    <tr>\n",
              "      <th>668558</th>\n",
              "      <td>0</td>\n",
              "      <td>2245971448</td>\n",
              "      <td>Fri Jun 19 16:54:32 PDT 2009</td>\n",
              "      <td>NO_QUERY</td>\n",
              "      <td>biiapassos</td>\n",
              "      <td>Alright, i did almost everything. Just didn't ...</td>\n",
              "    </tr>\n",
              "    <tr>\n",
              "      <th>1266673</th>\n",
              "      <td>1</td>\n",
              "      <td>1999690223</td>\n",
              "      <td>Mon Jun 01 20:39:13 PDT 2009</td>\n",
              "      <td>NO_QUERY</td>\n",
              "      <td>judez_xo</td>\n",
              "      <td>@_most_wanted_ lol silly boy! I love you</td>\n",
              "    </tr>\n",
              "    <tr>\n",
              "      <th>1056511</th>\n",
              "      <td>1</td>\n",
              "      <td>1962515452</td>\n",
              "      <td>Fri May 29 11:09:53 PDT 2009</td>\n",
              "      <td>NO_QUERY</td>\n",
              "      <td>metroretrovtg</td>\n",
              "      <td>@pdxfabricdeli I see ya PDX!  And receiving yo...</td>\n",
              "    </tr>\n",
              "    <tr>\n",
              "      <th>1119067</th>\n",
              "      <td>1</td>\n",
              "      <td>1973708572</td>\n",
              "      <td>Sat May 30 11:40:42 PDT 2009</td>\n",
              "      <td>NO_QUERY</td>\n",
              "      <td>analiviacoelho</td>\n",
              "      <td>Enjoying a sweeet saturday at the winery</td>\n",
              "    </tr>\n",
              "    <tr>\n",
              "      <th>662820</th>\n",
              "      <td>0</td>\n",
              "      <td>2243867553</td>\n",
              "      <td>Fri Jun 19 14:00:17 PDT 2009</td>\n",
              "      <td>NO_QUERY</td>\n",
              "      <td>djdsf</td>\n",
              "      <td>@merlinglx It was odd, never happened to me be...</td>\n",
              "    </tr>\n",
              "  </tbody>\n",
              "</table>\n",
              "</div>"
            ],
            "text/plain": [
              "         targets  ...                                             tweets\n",
              "985984         1  ...  @brianteeman Thats not far from here, oh well ...\n",
              "737168         0  ...           Birthday is over  but Happy Fathers Day!\n",
              "1599434        1  ...                          @xomollydollyxo Exactly! \n",
              "1566586        1  ...  I love when theres an update as soon as i wake...\n",
              "920270         1  ...  @DomHarvey meannn party hahaha  always a good ...\n",
              "668558         0  ...  Alright, i did almost everything. Just didn't ...\n",
              "1266673        1  ...          @_most_wanted_ lol silly boy! I love you \n",
              "1056511        1  ...  @pdxfabricdeli I see ya PDX!  And receiving yo...\n",
              "1119067        1  ...          Enjoying a sweeet saturday at the winery \n",
              "662820         0  ...  @merlinglx It was odd, never happened to me be...\n",
              "\n",
              "[10 rows x 6 columns]"
            ]
          },
          "metadata": {
            "tags": []
          },
          "execution_count": 7
        }
      ]
    },
    {
      "cell_type": "code",
      "metadata": {
        "id": "IFECwQYFQ2mX"
      },
      "source": [
        "# Removing the url tweets and replacing @ and #\n",
        "\n",
        "import re\n",
        "\n",
        "hashtags = re.compile(r\"^#\\S+|\\s#\\S+\")\n",
        "mentions = re.compile(r\"^@\\S+|\\s@\\S+\")\n",
        "urls = re.compile(r\"https?://\\S+\")\n",
        "\n",
        "def process_text(text):\n",
        "  text = hashtags.sub(' hashtag', text)\n",
        "  text = mentions.sub(' entity', text)\n",
        "  return text.strip().lower()\n",
        "  \n",
        "def match_expr(pattern, string):\n",
        "  return not pattern.search(string) == None\n",
        "\n",
        "def data_without_urls(dataset):\n",
        "    link_with_urls = dataset.tweets.apply(lambda x: match_expr(urls, x))\n",
        "    return dataset[[not e for e in link_with_urls]]"
      ],
      "execution_count": 8,
      "outputs": []
    },
    {
      "cell_type": "code",
      "metadata": {
        "colab": {
          "base_uri": "https://localhost:8080/",
          "height": 348
        },
        "id": "OkhxU5-gSNH9",
        "outputId": "88035cc3-0221-49c3-f2df-287b4ec6343a"
      },
      "source": [
        "df.tweets = df.tweets.apply(process_text)\n",
        "\n",
        "df.sample(10)"
      ],
      "execution_count": 9,
      "outputs": [
        {
          "output_type": "execute_result",
          "data": {
            "text/html": [
              "<div>\n",
              "<style scoped>\n",
              "    .dataframe tbody tr th:only-of-type {\n",
              "        vertical-align: middle;\n",
              "    }\n",
              "\n",
              "    .dataframe tbody tr th {\n",
              "        vertical-align: top;\n",
              "    }\n",
              "\n",
              "    .dataframe thead th {\n",
              "        text-align: right;\n",
              "    }\n",
              "</style>\n",
              "<table border=\"1\" class=\"dataframe\">\n",
              "  <thead>\n",
              "    <tr style=\"text-align: right;\">\n",
              "      <th></th>\n",
              "      <th>targets</th>\n",
              "      <th>id</th>\n",
              "      <th>date</th>\n",
              "      <th>flag</th>\n",
              "      <th>user</th>\n",
              "      <th>tweets</th>\n",
              "    </tr>\n",
              "  </thead>\n",
              "  <tbody>\n",
              "    <tr>\n",
              "      <th>155953</th>\n",
              "      <td>0</td>\n",
              "      <td>1955987916</td>\n",
              "      <td>Thu May 28 20:58:48 PDT 2009</td>\n",
              "      <td>NO_QUERY</td>\n",
              "      <td>bball_joe</td>\n",
              "      <td>entity suspense, suspense. what to do during t...</td>\n",
              "    </tr>\n",
              "    <tr>\n",
              "      <th>65470</th>\n",
              "      <td>0</td>\n",
              "      <td>1691011481</td>\n",
              "      <td>Sun May 03 16:53:35 PDT 2009</td>\n",
              "      <td>NO_QUERY</td>\n",
              "      <td>jima6636</td>\n",
              "      <td>entity yes but for like th 10,000 time it is n...</td>\n",
              "    </tr>\n",
              "    <tr>\n",
              "      <th>340579</th>\n",
              "      <td>0</td>\n",
              "      <td>2014869572</td>\n",
              "      <td>Wed Jun 03 02:57:31 PDT 2009</td>\n",
              "      <td>NO_QUERY</td>\n",
              "      <td>ahmednuaman</td>\n",
              "      <td>entity just visited your web site: the intro b...</td>\n",
              "    </tr>\n",
              "    <tr>\n",
              "      <th>1464968</th>\n",
              "      <td>1</td>\n",
              "      <td>2064294954</td>\n",
              "      <td>Sun Jun 07 05:51:19 PDT 2009</td>\n",
              "      <td>NO_QUERY</td>\n",
              "      <td>vickeeeee</td>\n",
              "      <td>skyping with the rents!!  hashtag</td>\n",
              "    </tr>\n",
              "    <tr>\n",
              "      <th>1016218</th>\n",
              "      <td>1</td>\n",
              "      <td>1881671536</td>\n",
              "      <td>Fri May 22 05:16:37 PDT 2009</td>\n",
              "      <td>NO_QUERY</td>\n",
              "      <td>YvetteObeney</td>\n",
              "      <td>entity the hashtag is great, picked up &amp;amp; f...</td>\n",
              "    </tr>\n",
              "    <tr>\n",
              "      <th>305376</th>\n",
              "      <td>0</td>\n",
              "      <td>1999976626</td>\n",
              "      <td>Mon Jun 01 21:10:19 PDT 2009</td>\n",
              "      <td>NO_QUERY</td>\n",
              "      <td>jenry1523</td>\n",
              "      <td>drats! i miscalculated.</td>\n",
              "    </tr>\n",
              "    <tr>\n",
              "      <th>1379356</th>\n",
              "      <td>1</td>\n",
              "      <td>2052118737</td>\n",
              "      <td>Fri Jun 05 23:43:05 PDT 2009</td>\n",
              "      <td>NO_QUERY</td>\n",
              "      <td>jemihawkx33</td>\n",
              "      <td>chatting with entity</td>\n",
              "    </tr>\n",
              "    <tr>\n",
              "      <th>233101</th>\n",
              "      <td>0</td>\n",
              "      <td>1979306124</td>\n",
              "      <td>Sun May 31 02:29:01 PDT 2009</td>\n",
              "      <td>NO_QUERY</td>\n",
              "      <td>_We_ArE_bRoKeN_</td>\n",
              "      <td>no ones up at 4 30  its summer people!!!</td>\n",
              "    </tr>\n",
              "    <tr>\n",
              "      <th>1039976</th>\n",
              "      <td>1</td>\n",
              "      <td>1956886953</td>\n",
              "      <td>Thu May 28 22:56:51 PDT 2009</td>\n",
              "      <td>NO_QUERY</td>\n",
              "      <td>wahliaodotcom</td>\n",
              "      <td>hashtag love to entity ... and i hope u are al...</td>\n",
              "    </tr>\n",
              "    <tr>\n",
              "      <th>139114</th>\n",
              "      <td>0</td>\n",
              "      <td>1880728269</td>\n",
              "      <td>Fri May 22 02:17:11 PDT 2009</td>\n",
              "      <td>NO_QUERY</td>\n",
              "      <td>andrewbeaton</td>\n",
              "      <td>i just lost the game</td>\n",
              "    </tr>\n",
              "  </tbody>\n",
              "</table>\n",
              "</div>"
            ],
            "text/plain": [
              "         targets  ...                                             tweets\n",
              "155953         0  ...  entity suspense, suspense. what to do during t...\n",
              "65470          0  ...  entity yes but for like th 10,000 time it is n...\n",
              "340579         0  ...  entity just visited your web site: the intro b...\n",
              "1464968        1  ...                  skyping with the rents!!  hashtag\n",
              "1016218        1  ...  entity the hashtag is great, picked up &amp; f...\n",
              "305376         0  ...                            drats! i miscalculated.\n",
              "1379356        1  ...                               chatting with entity\n",
              "233101         0  ...           no ones up at 4 30  its summer people!!!\n",
              "1039976        1  ...  hashtag love to entity ... and i hope u are al...\n",
              "139114         0  ...                               i just lost the game\n",
              "\n",
              "[10 rows x 6 columns]"
            ]
          },
          "metadata": {
            "tags": []
          },
          "execution_count": 9
        }
      ]
    },
    {
      "cell_type": "code",
      "metadata": {
        "colab": {
          "base_uri": "https://localhost:8080/"
        },
        "id": "NgLqfMsRSUYv",
        "outputId": "52db1566-6b0d-4a15-bec3-96bb06c15ffd"
      },
      "source": [
        "# Removing url tweets\n",
        "\n",
        "df = data_without_urls(df)\n",
        "df.shape"
      ],
      "execution_count": 10,
      "outputs": [
        {
          "output_type": "execute_result",
          "data": {
            "text/plain": [
              "(1529862, 6)"
            ]
          },
          "metadata": {
            "tags": []
          },
          "execution_count": 10
        }
      ]
    },
    {
      "cell_type": "code",
      "metadata": {
        "colab": {
          "base_uri": "https://localhost:8080/",
          "height": 387
        },
        "id": "iZN2MJTGTzv0",
        "outputId": "65e75e9c-9eee-4b74-caa9-311412fc41c6"
      },
      "source": [
        "# Checking inbalance\n",
        "\n",
        "CLASS_NAMES = ['negative', 'positive']\n",
        "\n",
        "ax = sns.countplot(x=df.targets)\n",
        "ax.set_xticklabels(CLASS_NAMES)\n",
        "plt.savefig(os.path.join(project_path, 'count_plot.jpg'))"
      ],
      "execution_count": 11,
      "outputs": [
        {
          "output_type": "display_data",
          "data": {
            "image/png": "[encoded data removed]",
            "text/plain": [
              "<Figure size 576x432 with 1 Axes>"
            ]
          },
          "metadata": {
            "tags": [],
            "image/png": {
              "width": 519,
              "height": 370
            },
            "needs_background": "light"
          }
        }
      ]
    },
    {
      "cell_type": "code",
      "metadata": {
        "colab": {
          "base_uri": "https://localhost:8080/",
          "height": 198
        },
        "id": "uz2wNSi3VUvf",
        "outputId": "5863099f-c2d0-46d4-b487-0a433f483e9d"
      },
      "source": [
        "# Dropping unnecessary columns\n",
        "\n",
        "df = df.drop(['id', 'date', 'flag', 'user'], axis=1)\n",
        "df.head()"
      ],
      "execution_count": 12,
      "outputs": [
        {
          "output_type": "execute_result",
          "data": {
            "text/html": [
              "<div>\n",
              "<style scoped>\n",
              "    .dataframe tbody tr th:only-of-type {\n",
              "        vertical-align: middle;\n",
              "    }\n",
              "\n",
              "    .dataframe tbody tr th {\n",
              "        vertical-align: top;\n",
              "    }\n",
              "\n",
              "    .dataframe thead th {\n",
              "        text-align: right;\n",
              "    }\n",
              "</style>\n",
              "<table border=\"1\" class=\"dataframe\">\n",
              "  <thead>\n",
              "    <tr style=\"text-align: right;\">\n",
              "      <th></th>\n",
              "      <th>targets</th>\n",
              "      <th>tweets</th>\n",
              "    </tr>\n",
              "  </thead>\n",
              "  <tbody>\n",
              "    <tr>\n",
              "      <th>0</th>\n",
              "      <td>0</td>\n",
              "      <td>is upset that he can't update his facebook by ...</td>\n",
              "    </tr>\n",
              "    <tr>\n",
              "      <th>1</th>\n",
              "      <td>0</td>\n",
              "      <td>entity i dived many times for the ball. manage...</td>\n",
              "    </tr>\n",
              "    <tr>\n",
              "      <th>2</th>\n",
              "      <td>0</td>\n",
              "      <td>my whole body feels itchy and like its on fire</td>\n",
              "    </tr>\n",
              "    <tr>\n",
              "      <th>3</th>\n",
              "      <td>0</td>\n",
              "      <td>entity no, it's not behaving at all. i'm mad. ...</td>\n",
              "    </tr>\n",
              "    <tr>\n",
              "      <th>4</th>\n",
              "      <td>0</td>\n",
              "      <td>entity not the whole crew</td>\n",
              "    </tr>\n",
              "  </tbody>\n",
              "</table>\n",
              "</div>"
            ],
            "text/plain": [
              "   targets                                             tweets\n",
              "0        0  is upset that he can't update his facebook by ...\n",
              "1        0  entity i dived many times for the ball. manage...\n",
              "2        0     my whole body feels itchy and like its on fire\n",
              "3        0  entity no, it's not behaving at all. i'm mad. ...\n",
              "4        0                          entity not the whole crew"
            ]
          },
          "metadata": {
            "tags": []
          },
          "execution_count": 12
        }
      ]
    },
    {
      "cell_type": "code",
      "metadata": {
        "id": "xMMyxBW0Vs31"
      },
      "source": [
        "# Saving the cleaned dataset\n",
        "\n",
        "df.to_csv(os.path.join(project_path, 'traindata_cleaned.csv'), index=False)"
      ],
      "execution_count": 13,
      "outputs": []
    },
    {
      "cell_type": "markdown",
      "metadata": {
        "id": "kEGzmf9IZC9x"
      },
      "source": [
        "##Tokenization"
      ]
    },
    {
      "cell_type": "code",
      "metadata": {
        "colab": {
          "base_uri": "https://localhost:8080/",
          "height": 348
        },
        "id": "scX4EjbCYIT5",
        "outputId": "a59a5ad7-3ceb-4d85-8169-205e8011dfa7"
      },
      "source": [
        "df = pd.read_csv(os.path.join(project_path, 'traindata_cleaned.csv'))\n",
        "\n",
        "df.sample(10)"
      ],
      "execution_count": 14,
      "outputs": [
        {
          "output_type": "execute_result",
          "data": {
            "text/html": [
              "<div>\n",
              "<style scoped>\n",
              "    .dataframe tbody tr th:only-of-type {\n",
              "        vertical-align: middle;\n",
              "    }\n",
              "\n",
              "    .dataframe tbody tr th {\n",
              "        vertical-align: top;\n",
              "    }\n",
              "\n",
              "    .dataframe thead th {\n",
              "        text-align: right;\n",
              "    }\n",
              "</style>\n",
              "<table border=\"1\" class=\"dataframe\">\n",
              "  <thead>\n",
              "    <tr style=\"text-align: right;\">\n",
              "      <th></th>\n",
              "      <th>targets</th>\n",
              "      <th>tweets</th>\n",
              "    </tr>\n",
              "  </thead>\n",
              "  <tbody>\n",
              "    <tr>\n",
              "      <th>68320</th>\n",
              "      <td>0</td>\n",
              "      <td>still listening to loveline, sure does have lo...</td>\n",
              "    </tr>\n",
              "    <tr>\n",
              "      <th>583642</th>\n",
              "      <td>0</td>\n",
              "      <td>entity don't tease me. i don't rarely get sbs</td>\n",
              "    </tr>\n",
              "    <tr>\n",
              "      <th>618941</th>\n",
              "      <td>0</td>\n",
              "      <td>i feel sick  this is not a good way to start s...</td>\n",
              "    </tr>\n",
              "    <tr>\n",
              "      <th>1318499</th>\n",
              "      <td>1</td>\n",
              "      <td>entity it was the craziest illness. oh well, g...</td>\n",
              "    </tr>\n",
              "    <tr>\n",
              "      <th>1215531</th>\n",
              "      <td>1</td>\n",
              "      <td>entity if your into the whole taking a picture...</td>\n",
              "    </tr>\n",
              "    <tr>\n",
              "      <th>1130937</th>\n",
              "      <td>1</td>\n",
              "      <td>entity ok following you now</td>\n",
              "    </tr>\n",
              "    <tr>\n",
              "      <th>755242</th>\n",
              "      <td>0</td>\n",
              "      <td>ugh it's way too late... i have to get up early</td>\n",
              "    </tr>\n",
              "    <tr>\n",
              "      <th>449515</th>\n",
              "      <td>0</td>\n",
              "      <td>i kinda wish i hadn't read the sookie stackhou...</td>\n",
              "    </tr>\n",
              "    <tr>\n",
              "      <th>566924</th>\n",
              "      <td>0</td>\n",
              "      <td>entity oh no! sorry to hear about your vacay d...</td>\n",
              "    </tr>\n",
              "    <tr>\n",
              "      <th>1068933</th>\n",
              "      <td>1</td>\n",
              "      <td>entity yolaaaa.  entity lmao. she's already fa...</td>\n",
              "    </tr>\n",
              "  </tbody>\n",
              "</table>\n",
              "</div>"
            ],
            "text/plain": [
              "         targets                                             tweets\n",
              "68320          0  still listening to loveline, sure does have lo...\n",
              "583642         0      entity don't tease me. i don't rarely get sbs\n",
              "618941         0  i feel sick  this is not a good way to start s...\n",
              "1318499        1  entity it was the craziest illness. oh well, g...\n",
              "1215531        1  entity if your into the whole taking a picture...\n",
              "1130937        1                        entity ok following you now\n",
              "755242         0    ugh it's way too late... i have to get up early\n",
              "449515         0  i kinda wish i hadn't read the sookie stackhou...\n",
              "566924         0  entity oh no! sorry to hear about your vacay d...\n",
              "1068933        1  entity yolaaaa.  entity lmao. she's already fa..."
            ]
          },
          "metadata": {
            "tags": []
          },
          "execution_count": 14
        }
      ]
    },
    {
      "cell_type": "code",
      "metadata": {
        "id": "W5dN1AprYPqR",
        "colab": {
          "base_uri": "https://localhost:8080/",
          "height": 67,
          "referenced_widgets": [
            "77d40846a57b4078be6dc210cf7d6802",
            "0a7566c801ca40a49b0534950a3f6f95",
            "57602c15b3554d41a448df5352c1f30f",
            "bd50c72edc5248739c143d41dfaecfea",
            "f06ac0bafc264c41bd1cd53ac375fc22",
            "1aeb0e9ea99143a8820c3736ee17171c",
            "3325df076f2a444293f8444da031da5f",
            "8c527bf8544e496c97c2d7781800c835"
          ]
        },
        "outputId": "eaf35140-88b8-4aeb-e959-6aa5dabf33f9"
      },
      "source": [
        "# Tokenizer\n",
        "\n",
        "PRETRAINED_MODEL_NAME = 'bert-base-uncased'\n",
        "\n",
        "tokenizer = BertTokenizer.from_pretrained(PRETRAINED_MODEL_NAME)"
      ],
      "execution_count": 15,
      "outputs": [
        {
          "output_type": "display_data",
          "data": {
            "application/vnd.jupyter.widget-view+json": {
              "model_id": "77d40846a57b4078be6dc210cf7d6802",
              "version_minor": 0,
              "version_major": 2
            },
            "text/plain": [
              "HBox(children=(FloatProgress(value=0.0, description='Downloading', max=231508.0, style=ProgressStyle(descripti…"
            ]
          },
          "metadata": {
            "tags": []
          }
        },
        {
          "output_type": "stream",
          "text": [
            "\n"
          ],
          "name": "stdout"
        }
      ]
    },
    {
      "cell_type": "code",
      "metadata": {
        "colab": {
          "base_uri": "https://localhost:8080/"
        },
        "id": "4kBxDDVUZnWM",
        "outputId": "3b84013f-00d0-458b-e7fc-ed23b01c5c95"
      },
      "source": [
        "# Finding the maximum token length\n",
        "\n",
        "from tqdm import tqdm\n",
        "\n",
        "token_lens = []\n",
        "\n",
        "for t in tqdm(df.tweets):\n",
        "    tokens = tokenizer.encode(t, max_length=512)\n",
        "    token_lens.append(len(tokens))"
      ],
      "execution_count": 16,
      "outputs": [
        {
          "output_type": "stream",
          "text": [
            "  0%|          | 0/1529862 [00:00<?, ?it/s]Truncation was not explicitly activated but `max_length` is provided a specific value, please use `truncation=True` to explicitly truncate examples to max length. Defaulting to 'longest_first' truncation strategy. If you encode pairs of sequences (GLUE-style) with the tokenizer you can select this strategy more precisely by providing a specific strategy to `truncation`.\n",
            "100%|██████████| 1529862/1529862 [09:34<00:00, 2660.70it/s]\n"
          ],
          "name": "stderr"
        }
      ]
    },
    {
      "cell_type": "code",
      "metadata": {
        "id": "aqWB3U8FaEWL"
      },
      "source": [
        "# Saving the token_lens list for further use\n",
        "\n",
        "import pickle\n",
        "\n",
        "with open(os.path.join(project_path, 'token_lens.txt'), 'wb') as file:\n",
        "    pickle.dump(token_lens, file)\n",
        "\n",
        "# Reading the list\n",
        "\n",
        "# with open(os.path.join(project_path, 'token_lens.txt'), 'rb') as file:\n",
        "#     token_lens = pickle.load(file)\n",
        "# token_lens"
      ],
      "execution_count": 17,
      "outputs": []
    },
    {
      "cell_type": "code",
      "metadata": {
        "colab": {
          "base_uri": "https://localhost:8080/",
          "height": 369
        },
        "id": "111Zmpd9c3D5",
        "outputId": "cf20c72d-cb58-4558-feb2-d0586d16d62b"
      },
      "source": [
        "# Plot\n",
        "\n",
        "ax = sns.displot(token_lens)\n",
        "plt.savefig(os.path.join(project_path, 'token_lens.jpg'))"
      ],
      "execution_count": 18,
      "outputs": [
        {
          "output_type": "display_data",
          "data": {
            "image/png": "[encoded data removed]",
            "text/plain": [
              "<Figure size 360x360 with 1 Axes>"
            ]
          },
          "metadata": {
            "tags": [],
            "image/png": {
              "width": 353,
              "height": 352
            },
            "needs_background": "light"
          }
        }
      ]
    },
    {
      "cell_type": "code",
      "metadata": {
        "id": "eJWEgy-Vdiau"
      },
      "source": [
        "# From the plot the suitable maximum length = 240\n",
        "\n",
        "MAX_LEN = 240"
      ],
      "execution_count": 19,
      "outputs": []
    },
    {
      "cell_type": "markdown",
      "metadata": {
        "id": "4xY83qb3hr16"
      },
      "source": [
        "##Creating dataset"
      ]
    },
    {
      "cell_type": "code",
      "metadata": {
        "id": "gAXQUfXOl1K8"
      },
      "source": [
        "class TweetSentimentDataset(Dataset):\n",
        "    def __init__(self, tweets, targets, tokenizer, max_len):\n",
        "        self.tweets = tweets\n",
        "        self.targets = targets\n",
        "        self.tokenizer = tokenizer\n",
        "        self.max_len = max_len\n",
        "\n",
        "    def __len__(self):\n",
        "        return len(self.tweets)\n",
        "    \n",
        "    def __getitem__(self, item):\n",
        "        tweet = self.tweets[item]\n",
        "        target = self.targets[item]\n",
        "\n",
        "        encoding = self.tokenizer.encode_plus(\n",
        "            tweet,\n",
        "            add_special_tokens=True,\n",
        "            max_length=self.max_len,\n",
        "            return_token_type_ids=False,\n",
        "            padding='max_length',\n",
        "            return_attention_mask=True,\n",
        "            return_tensors='pt'\n",
        "        )\n",
        "\n",
        "        return {\n",
        "            'tweet': tweet,\n",
        "            'targets': torch.tensor(target, dtype=torch.long),\n",
        "            'input_ids': encoding['input_ids'].flatten(),\n",
        "            'attention_mask': encoding['attention_mask'].flatten()\n",
        "        }"
      ],
      "execution_count": 20,
      "outputs": []
    },
    {
      "cell_type": "code",
      "metadata": {
        "id": "9aAPj5r-n0z1"
      },
      "source": [
        "# Creating training testing and validation data\n",
        "\n",
        "df_train, df_test = train_test_split(df, test_size=0.1, random_state=RANDOM_SEED)\n",
        "df_val, df_test = train_test_split(df_test, test_size=0.5, random_state=RANDOM_SEED)"
      ],
      "execution_count": 21,
      "outputs": []
    },
    {
      "cell_type": "code",
      "metadata": {
        "colab": {
          "base_uri": "https://localhost:8080/"
        },
        "id": "HcF4T6KHoPxX",
        "outputId": "23807c85-2597-4576-ad2b-19db0c386ef7"
      },
      "source": [
        "print(df_train.shape)\n",
        "print(df_test.shape)\n",
        "print(df_val.shape)"
      ],
      "execution_count": 22,
      "outputs": [
        {
          "output_type": "stream",
          "text": [
            "(1376875, 2)\n",
            "(76494, 2)\n",
            "(76493, 2)\n"
          ],
          "name": "stdout"
        }
      ]
    },
    {
      "cell_type": "code",
      "metadata": {
        "id": "OIB_ZV7HoukT"
      },
      "source": [
        "# Defining dataloader\n",
        "\n",
        "def create_data_loader(df, tokenizer, max_len, batch_size):\n",
        "    ds = TweetSentimentDataset(\n",
        "        tweets=df.tweets.to_numpy(),\n",
        "        targets=df.targets.to_numpy(),\n",
        "        tokenizer=tokenizer,\n",
        "        max_len=max_len\n",
        "    )\n",
        "    return DataLoader(\n",
        "        ds,\n",
        "        batch_size=batch_size,\n",
        "        num_workers=4\n",
        "    )"
      ],
      "execution_count": 23,
      "outputs": []
    },
    {
      "cell_type": "code",
      "metadata": {
        "id": "PNZYwtyPsLhO"
      },
      "source": [
        "# Creating train, val and test dataloader\n",
        "\n",
        "BATCH_SIZE = 16\n",
        "\n",
        "train_data_loader = create_data_loader(df_train, tokenizer, MAX_LEN, BATCH_SIZE)\n",
        "val_data_loader = create_data_loader(df_val, tokenizer, MAX_LEN, BATCH_SIZE)\n",
        "test_data_loader = create_data_loader(df_test, tokenizer, MAX_LEN, BATCH_SIZE)"
      ],
      "execution_count": 24,
      "outputs": []
    },
    {
      "cell_type": "code",
      "metadata": {
        "colab": {
          "base_uri": "https://localhost:8080/"
        },
        "id": "Bf84VmlzsbU_",
        "outputId": "ae02dbb4-5884-4f3c-9e54-e92eedaf064e"
      },
      "source": [
        "data = next(iter(train_data_loader))\n",
        "data.keys()"
      ],
      "execution_count": 25,
      "outputs": [
        {
          "output_type": "execute_result",
          "data": {
            "text/plain": [
              "dict_keys(['tweet', 'targets', 'input_ids', 'attention_mask'])"
            ]
          },
          "metadata": {
            "tags": []
          },
          "execution_count": 25
        }
      ]
    },
    {
      "cell_type": "markdown",
      "metadata": {
        "id": "6sYviwGWdqey"
      },
      "source": [
        "##Bert model"
      ]
    },
    {
      "cell_type": "code",
      "metadata": {
        "colab": {
          "base_uri": "https://localhost:8080/",
          "height": 117,
          "referenced_widgets": [
            "b5699461c54449d6ad78085553ea3f6b",
            "fb1903a9116c4e03bb34d4e5627e094b",
            "70ab703c2b4a4c9bbbf7d22a8770319a",
            "ebd496f1c417418d93877ce834dafe06",
            "29e26e97c6d64904a78dbf2947cb890b",
            "f3a685e5053a4eaeb046126a04a21b23",
            "4313fc4a2d104ab3bfc9d8a773e65a6e",
            "666b088c9ad748ec953f37d7392fe0a7",
            "2fff52e1cde24d75a5157b5595ee8819",
            "2445f93ab68744c1a6aa70cfae26dfe4",
            "19cc4dcce07141868462b6b004ff5538",
            "3a23b5fe00134fe594fe110912dc9bc8",
            "bf2c711a8537402ea0822fb0b93fd7a0",
            "130f52cc21c54929932b3528b1a076c7",
            "f30883888ff247b8af7a37d0022850b0",
            "ec14727bc71d44b8b401fb72ae5608a2"
          ]
        },
        "id": "NgVdaGoAyy_R",
        "outputId": "d0707d10-e0b7-4433-cf3a-e0e3dafefd35"
      },
      "source": [
        "# Bert Model\n",
        "\n",
        "bert_model = BertModel.from_pretrained(PRETRAINED_MODEL_NAME)"
      ],
      "execution_count": 26,
      "outputs": [
        {
          "output_type": "display_data",
          "data": {
            "application/vnd.jupyter.widget-view+json": {
              "model_id": "b5699461c54449d6ad78085553ea3f6b",
              "version_minor": 0,
              "version_major": 2
            },
            "text/plain": [
              "HBox(children=(FloatProgress(value=0.0, description='Downloading', max=433.0, style=ProgressStyle(description_…"
            ]
          },
          "metadata": {
            "tags": []
          }
        },
        {
          "output_type": "stream",
          "text": [
            "\n"
          ],
          "name": "stdout"
        },
        {
          "output_type": "display_data",
          "data": {
            "application/vnd.jupyter.widget-view+json": {
              "model_id": "2fff52e1cde24d75a5157b5595ee8819",
              "version_minor": 0,
              "version_major": 2
            },
            "text/plain": [
              "HBox(children=(FloatProgress(value=0.0, description='Downloading', max=440473133.0, style=ProgressStyle(descri…"
            ]
          },
          "metadata": {
            "tags": []
          }
        },
        {
          "output_type": "stream",
          "text": [
            "\n"
          ],
          "name": "stdout"
        }
      ]
    },
    {
      "cell_type": "code",
      "metadata": {
        "id": "_O74PUOUy_-z"
      },
      "source": [
        "# Creating Sentiment classifier class\n",
        "\n",
        "class TweetSentimentClassifier(nn.Module):\n",
        "    def __init__(self, n_classes):\n",
        "        super(TweetSentimentClassifier, self).__init__()\n",
        "        self.bert = BertModel.from_pretrained(PRETRAINED_MODEL_NAME)\n",
        "        self.drop = nn.Dropout(p=0.3)\n",
        "        self.out = nn.Linear(self.bert.config.hidden_size, n_classes)\n",
        "    \n",
        "    def forward(self, input_ids, attention_mask):\n",
        "        o = self.bert(\n",
        "            input_ids=input_ids,\n",
        "            attention_mask=attention_mask\n",
        "        )\n",
        "        pooler_output = o['pooler_output']\n",
        "        output = self.drop(pooler_output)\n",
        "        return self.out(output)"
      ],
      "execution_count": 27,
      "outputs": []
    },
    {
      "cell_type": "code",
      "metadata": {
        "id": "65AyLuOL01ZJ"
      },
      "source": [
        "# Creating a model instance\n",
        "CLASS_NAMES = ['negative', 'positive']\n",
        "\n",
        "model = TweetSentimentClassifier(len(CLASS_NAMES))\n",
        "model = model.to(device)"
      ],
      "execution_count": 28,
      "outputs": []
    },
    {
      "cell_type": "code",
      "metadata": {
        "colab": {
          "base_uri": "https://localhost:8080/"
        },
        "id": "q1wgvMAg1LAs",
        "outputId": "14188e49-dd52-49f3-e780-7ece07e7b579"
      },
      "source": [
        "input_ids = data['input_ids'].to(device)\n",
        "attention_mask = data['attention_mask'].to(device)\n",
        "\n",
        "print(input_ids.shape)\n",
        "print(attention_mask.shape)"
      ],
      "execution_count": 29,
      "outputs": [
        {
          "output_type": "stream",
          "text": [
            "torch.Size([16, 240])\n",
            "torch.Size([16, 240])\n"
          ],
          "name": "stdout"
        }
      ]
    },
    {
      "cell_type": "code",
      "metadata": {
        "colab": {
          "base_uri": "https://localhost:8080/"
        },
        "id": "F7rx8GPb1d6K",
        "outputId": "67d4c6eb-bafc-4e59-f454-84bef4fecb65"
      },
      "source": [
        "F.softmax(model(input_ids, attention_mask), dim=1)"
      ],
      "execution_count": 30,
      "outputs": [
        {
          "output_type": "execute_result",
          "data": {
            "text/plain": [
              "tensor([[0.5980, 0.4020],\n",
              "        [0.4509, 0.5491],\n",
              "        [0.5663, 0.4337],\n",
              "        [0.6108, 0.3892],\n",
              "        [0.4906, 0.5094],\n",
              "        [0.5987, 0.4013],\n",
              "        [0.5801, 0.4199],\n",
              "        [0.6074, 0.3926],\n",
              "        [0.7234, 0.2766],\n",
              "        [0.5325, 0.4675],\n",
              "        [0.5093, 0.4907],\n",
              "        [0.6720, 0.3280],\n",
              "        [0.4819, 0.5181],\n",
              "        [0.7000, 0.3000],\n",
              "        [0.5861, 0.4139],\n",
              "        [0.7146, 0.2854]], device='cuda:0', grad_fn=<SoftmaxBackward>)"
            ]
          },
          "metadata": {
            "tags": []
          },
          "execution_count": 30
        }
      ]
    },
    {
      "cell_type": "markdown",
      "metadata": {
        "id": "5tbmBKyb2F2V"
      },
      "source": [
        "##Training"
      ]
    },
    {
      "cell_type": "code",
      "metadata": {
        "id": "xLTyknDy1rxY"
      },
      "source": [
        "# Defining epochs, optimizer, scheduler, loss_fn\n",
        "\n",
        "EPOCHS = 10\n",
        "\n",
        "optimizer = AdamW(model.parameters(), lr=2e-5, correct_bias=False)\n",
        "total_steps = len(train_data_loader) * EPOCHS\n",
        "\n",
        "scheduler = get_linear_schedule_with_warmup(\n",
        "    optimizer,\n",
        "    num_warmup_steps=0,\n",
        "    num_training_steps=total_steps\n",
        ")\n",
        "\n",
        "loss_fn = nn.CrossEntropyLoss().to(device)"
      ],
      "execution_count": 31,
      "outputs": []
    },
    {
      "cell_type": "code",
      "metadata": {
        "id": "jS4ZZhDx2zDZ"
      },
      "source": [
        "# Training model function\n",
        "\n",
        "def train_epoch(\n",
        "    model,\n",
        "    data_loader,\n",
        "    loss_fn,\n",
        "    optimizer,\n",
        "    device,\n",
        "    scheduler,\n",
        "    n_examples\n",
        "):\n",
        "    model = model.train()\n",
        "\n",
        "    losses = []\n",
        "    correct_predictions = 0\n",
        "\n",
        "    for d in data_loader:\n",
        "        input_ids = d['input_ids'].to(device)\n",
        "        attention_mask = d['attention_mask'].to(device)\n",
        "        targets = d['targets'].to(device)\n",
        "\n",
        "        outputs = model(\n",
        "            input_ids=input_ids,\n",
        "            attention_mask=attention_mask\n",
        "        )\n",
        "\n",
        "        _, preds = torch.max(outputs, dim=1)\n",
        "        loss = loss_fn(outputs, targets)\n",
        "\n",
        "        correct_predictions += torch.sum(preds == targets)\n",
        "        losses.append(loss.item())\n",
        "\n",
        "        loss.backward()\n",
        "        nn.utils.clip_grad_norm_(model.parameters(), max_norm=1.0)\n",
        "        optimizer.step()\n",
        "        scheduler.step()\n",
        "        optimizer.zero_grad()\n",
        "    \n",
        "    return correct_predictions.double() / n_examples, np.mean(losses)"
      ],
      "execution_count": 32,
      "outputs": []
    },
    {
      "cell_type": "code",
      "metadata": {
        "id": "JKSjwPAZf_mY"
      },
      "source": [
        "# Evaluating model function\n",
        "\n",
        "def eval_model(\n",
        "    model,\n",
        "    data_loader,\n",
        "    loss_fn,\n",
        "    device,\n",
        "    n_examples\n",
        "):\n",
        "    losses = []\n",
        "    correct_predictions = 0\n",
        "\n",
        "    with torch.no_grad():\n",
        "        for d in data_loader:\n",
        "            input_ids = d['input_ids'].to(device)\n",
        "            attention_mask = d['attention_mask'].to(device)\n",
        "            targets = d['targets'].to(device)\n",
        "\n",
        "            outputs = model(\n",
        "                input_ids=input_ids,\n",
        "                attention_mask=attention_mask\n",
        "            )\n",
        "\n",
        "            _, preds = torch.max(outputs, dim=1)\n",
        "            loss = loss_fn(outputs, targets)\n",
        "\n",
        "            correct_predictions += torch.sum(preds == targets)\n",
        "            losses.append(loss.item())\n",
        "        \n",
        "    return correct_predictions.double() / n_examples, np.mean(losses)"
      ],
      "execution_count": 33,
      "outputs": []
    },
    {
      "cell_type": "code",
      "metadata": {
        "colab": {
          "base_uri": "https://localhost:8080/"
        },
        "id": "1B6ICgQPg74F",
        "outputId": "6713d0fc-6ef3-46bd-f0e2-300fa1e85863"
      },
      "source": [
        "%%time\n",
        "\n",
        "history = defaultdict(list)\n",
        "best_accuracy = 0\n",
        "\n",
        "for epoch in range(EPOCHS):\n",
        "\n",
        "  print(f'Epoch {epoch + 1}/{EPOCHS}')\n",
        "  print('-' * 10)\n",
        "\n",
        "  train_acc, train_loss = train_epoch(\n",
        "    model,\n",
        "    train_data_loader,    \n",
        "    loss_fn, \n",
        "    optimizer, \n",
        "    device, \n",
        "    scheduler, \n",
        "    len(df_train)\n",
        "  )\n",
        "\n",
        "  print(f'Train loss {train_loss} accuracy {train_acc}')\n",
        "\n",
        "  val_acc, val_loss = eval_model(\n",
        "    model,\n",
        "    val_data_loader,\n",
        "    loss_fn, \n",
        "    device, \n",
        "    len(df_val)\n",
        "  )\n",
        "\n",
        "  print(f'Val   loss {val_loss} accuracy {val_acc}')\n",
        "  print()\n",
        "\n",
        "  history['train_acc'].append(train_acc)\n",
        "  history['train_loss'].append(train_loss)\n",
        "  history['val_acc'].append(val_acc)\n",
        "  history['val_loss'].append(val_loss)\n",
        "\n",
        "  if val_acc > best_accuracy:\n",
        "    torch.save(model.state_dict(), 'best_model_state.bin')\n",
        "    best_accuracy = val_acc"
      ],
      "execution_count": null,
      "outputs": [
        {
          "output_type": "stream",
          "text": [
            "Epoch 1/10\n",
            "----------\n"
          ],
          "name": "stdout"
        }
      ]
    }
  ]
}