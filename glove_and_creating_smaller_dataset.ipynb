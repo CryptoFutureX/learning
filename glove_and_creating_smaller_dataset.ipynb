{
  "nbformat": 4,
  "nbformat_minor": 0,
  "metadata": {
    "colab": {
      "name": "glove_and creating_smaller_dataset.ipynb",
      "provenance": [],
      "collapsed_sections": []
    },
    "kernelspec": {
      "name": "python3",
      "display_name": "Python 3"
    }
  },
  "cells": [
    {
      "cell_type": "code",
      "metadata": {
        "id": "YZqnqnChQs_K"
      },
      "source": [
        "# import os\n",
        "\n",
        "# os.environ['KAGGLE_USERNAME'] = 'tusharbauskar0812'\n",
        "# os.environ['KAGGLE_KEY'] = '80a9cbf2ffcd660dc7ae44c18d3796b2'"
      ],
      "execution_count": 1,
      "outputs": []
    },
    {
      "cell_type": "code",
      "metadata": {
        "colab": {
          "base_uri": "https://localhost:8080/"
        },
        "id": "titb3BkNfInF",
        "outputId": "4cc7bb55-7315-4575-8025-f27dce307e6e"
      },
      "source": [
        "# !pip install --upgrade --force-reinstall --no-deps kaggle"
      ],
      "execution_count": 2,
      "outputs": [
        {
          "output_type": "stream",
          "text": [
            "Collecting kaggle\n",
            "\u001b[?25l  Downloading https://files.pythonhosted.org/packages/99/33/365c0d13f07a2a54744d027fe20b60dacdfdfb33bc04746db6ad0b79340b/kaggle-1.5.10.tar.gz (59kB)\n",
            "\r\u001b[K     |█████▌                          | 10kB 13.2MB/s eta 0:00:01\r\u001b[K     |███████████                     | 20kB 9.7MB/s eta 0:00:01\r\u001b[K     |████████████████▋               | 30kB 7.4MB/s eta 0:00:01\r\u001b[K     |██████████████████████▏         | 40kB 7.4MB/s eta 0:00:01\r\u001b[K     |███████████████████████████▊    | 51kB 4.2MB/s eta 0:00:01\r\u001b[K     |████████████████████████████████| 61kB 2.8MB/s \n",
            "\u001b[?25hBuilding wheels for collected packages: kaggle\n",
            "  Building wheel for kaggle (setup.py) ... \u001b[?25l\u001b[?25hdone\n",
            "  Created wheel for kaggle: filename=kaggle-1.5.10-cp37-none-any.whl size=73269 sha256=b26deff5da7ecf3de5f884cce31576cc81ab4100bb95e8a6fd1c48eef8f65edc\n",
            "  Stored in directory: /root/.cache/pip/wheels/3a/d1/7e/6ce09b72b770149802c653a02783821629146983ee5a360f10\n",
            "Successfully built kaggle\n",
            "Installing collected packages: kaggle\n",
            "  Found existing installation: kaggle 1.5.10\n",
            "    Uninstalling kaggle-1.5.10:\n",
            "      Successfully uninstalled kaggle-1.5.10\n",
            "Successfully installed kaggle-1.5.10\n"
          ],
          "name": "stdout"
        }
      ]
    },
    {
      "cell_type": "code",
      "metadata": {
        "colab": {
          "base_uri": "https://localhost:8080/"
        },
        "id": "njjW3VK1fL-x",
        "outputId": "dfd9b214-21c3-43b7-ad3e-96fde0e83342"
      },
      "source": [
        "# !kaggle datasets download -d bertcarremans/glovetwitter27b100dtxt"
      ],
      "execution_count": 3,
      "outputs": [
        {
          "output_type": "stream",
          "text": [
            "Downloading glovetwitter27b100dtxt.zip to /content\n",
            " 93% 369M/397M [00:03<00:00, 109MB/s]\n",
            "100% 397M/397M [00:03<00:00, 130MB/s]\n"
          ],
          "name": "stdout"
        }
      ]
    },
    {
      "cell_type": "code",
      "metadata": {
        "colab": {
          "base_uri": "https://localhost:8080/"
        },
        "id": "horLjnKrfhlC",
        "outputId": "26be5bd7-b745-4d62-b5c8-594c9b40af3b"
      },
      "source": [
        "# !unzip \"/content/drive/MyDrive/Dataset/glovetwitter27b100dtxt.zip\" -d \"/content/drive/MyDrive/Dataset/glove-twitter\""
      ],
      "execution_count": 4,
      "outputs": [
        {
          "output_type": "stream",
          "text": [
            "Archive:  /content/drive/MyDrive/Dataset/glovetwitter27b100dtxt.zip\n",
            "  inflating: /content/drive/MyDrive/Dataset/glove-twitter/glove.twitter.27B.100d.txt  \n"
          ],
          "name": "stdout"
        }
      ]
    },
    {
      "cell_type": "code",
      "metadata": {
        "colab": {
          "base_uri": "https://localhost:8080/"
        },
        "id": "dKCZVdTXf4wM",
        "outputId": "f58bb15b-8f25-42c9-9c37-cffbc3f0442c"
      },
      "source": [
        "# Checking GloVe\n",
        "\n",
        "with open('/content/drive/MyDrive/Dataset/glove-twitter/glove.twitter.27B.100d.txt',\n",
        "          'r', encoding='utf-8') as f:\n",
        "          for line in f:\n",
        "              print(line)\n",
        "              break"
      ],
      "execution_count": 8,
      "outputs": [
        {
          "output_type": "stream",
          "text": [
            "<user> 0.63006 0.65177 0.25545 0.018593 0.043094 0.047194 0.23218 0.11613 0.17371 0.40487 0.022524 -0.076731 -2.2911 0.094127 0.43293 0.041801 0.063175 -0.64486 -0.43657 0.024114 -0.082989 0.21686 -0.13462 -0.22336 0.39436 -2.1724 -0.39544 0.16536 0.39438 -0.35182 -0.14996 0.10502 -0.45937 0.27729 0.8924 -0.042313 -0.009345 0.55017 0.095521 0.070504 -1.1781 0.013723 0.17742 0.74142 0.17716 0.038468 -0.31684 0.08941 0.20557 -0.34328 -0.64303 -0.878 -0.16293 -0.055925 0.33898 0.60664 -0.2774 0.33626 0.21603 -0.11051 0.0058673 -0.64757 -0.068222 -0.77414 0.13911 -0.15851 -0.61885 -0.10192 -0.47 0.19787 0.42175 -0.18458 0.080581 -0.22545 -0.065129 -0.15328 0.087726 -0.18817 -0.08371 0.21779 0.97899 0.1092 0.022705 -0.078234 0.15595 0.083105 -0.6824 0.57469 -0.19942 0.50566 -0.18277 0.37721 -0.12514 -0.42821 -0.81075 -0.39326 -0.17386 0.55096 0.64706 -0.6093\n",
            "\n"
          ],
          "name": "stdout"
        }
      ]
    },
    {
      "cell_type": "code",
      "metadata": {
        "id": "T4-4QaOjjy7a"
      },
      "source": [
        "import numpy as np\n",
        "\n",
        "embedding_dict = {}\n",
        "\n",
        "with open('/content/drive/MyDrive/Dataset/glove-twitter/glove.twitter.27B.100d.txt',\n",
        "          'r', encoding='utf-8') as f:\n",
        "          for line in f:\n",
        "              values = line.split()\n",
        "              word = values[0]\n",
        "              vector = np.asarray(values[1:], 'float32')\n",
        "              embedding_dict[word] = vector"
      ],
      "execution_count": 9,
      "outputs": []
    },
    {
      "cell_type": "code",
      "metadata": {
        "id": "Ejt2SQsxlcl_"
      },
      "source": [
        "# embedding_dict"
      ],
      "execution_count": null,
      "outputs": []
    },
    {
      "cell_type": "code",
      "metadata": {
        "colab": {
          "base_uri": "https://localhost:8080/",
          "height": 348
        },
        "id": "AO9EFIUwlnzA",
        "outputId": "6dc6e3bb-7a11-4fc0-853a-aabddca37986"
      },
      "source": [
        "import pandas as pd\n",
        "\n",
        "df = pd.read_csv('/content/drive/MyDrive/Cryptofuture/traindata.csv', encoding='latin')\n",
        "df.columns = ['target', 'ids', 'date', 'flag', 'user', 'text']\n",
        "\n",
        "df.sample(n=10)"
      ],
      "execution_count": 13,
      "outputs": [
        {
          "output_type": "execute_result",
          "data": {
            "text/html": [
              "<div>\n",
              "<style scoped>\n",
              "    .dataframe tbody tr th:only-of-type {\n",
              "        vertical-align: middle;\n",
              "    }\n",
              "\n",
              "    .dataframe tbody tr th {\n",
              "        vertical-align: top;\n",
              "    }\n",
              "\n",
              "    .dataframe thead th {\n",
              "        text-align: right;\n",
              "    }\n",
              "</style>\n",
              "<table border=\"1\" class=\"dataframe\">\n",
              "  <thead>\n",
              "    <tr style=\"text-align: right;\">\n",
              "      <th></th>\n",
              "      <th>target</th>\n",
              "      <th>ids</th>\n",
              "      <th>date</th>\n",
              "      <th>flag</th>\n",
              "      <th>user</th>\n",
              "      <th>text</th>\n",
              "    </tr>\n",
              "  </thead>\n",
              "  <tbody>\n",
              "    <tr>\n",
              "      <th>745082</th>\n",
              "      <td>0</td>\n",
              "      <td>2282160699</td>\n",
              "      <td>Mon Jun 22 11:01:04 PDT 2009</td>\n",
              "      <td>NO_QUERY</td>\n",
              "      <td>jamescronin</td>\n",
              "      <td>@beas_bloomsbury thanks Bea. Mine tried to eat...</td>\n",
              "    </tr>\n",
              "    <tr>\n",
              "      <th>1523888</th>\n",
              "      <td>4</td>\n",
              "      <td>2176643441</td>\n",
              "      <td>Mon Jun 15 04:24:15 PDT 2009</td>\n",
              "      <td>NO_QUERY</td>\n",
              "      <td>ashley_elayne</td>\n",
              "      <td>Safety Town with Kyle &amp;amp; Aden  Woop</td>\n",
              "    </tr>\n",
              "    <tr>\n",
              "      <th>548162</th>\n",
              "      <td>0</td>\n",
              "      <td>2202291426</td>\n",
              "      <td>Tue Jun 16 21:32:58 PDT 2009</td>\n",
              "      <td>NO_QUERY</td>\n",
              "      <td>rondata</td>\n",
              "      <td>@cjdmusic scary</td>\n",
              "    </tr>\n",
              "    <tr>\n",
              "      <th>1305397</th>\n",
              "      <td>4</td>\n",
              "      <td>2011164062</td>\n",
              "      <td>Tue Jun 02 18:35:02 PDT 2009</td>\n",
              "      <td>NO_QUERY</td>\n",
              "      <td>AATP</td>\n",
              "      <td>@beauty411 - I would say deep grass trenches  ...</td>\n",
              "    </tr>\n",
              "    <tr>\n",
              "      <th>1373464</th>\n",
              "      <td>4</td>\n",
              "      <td>2051330073</td>\n",
              "      <td>Fri Jun 05 21:40:50 PDT 2009</td>\n",
              "      <td>NO_QUERY</td>\n",
              "      <td>ERINisBEASTLY</td>\n",
              "      <td>@adambarber YES! OF COURSE! You guys should ha...</td>\n",
              "    </tr>\n",
              "    <tr>\n",
              "      <th>637522</th>\n",
              "      <td>0</td>\n",
              "      <td>2234212392</td>\n",
              "      <td>Thu Jun 18 22:37:57 PDT 2009</td>\n",
              "      <td>NO_QUERY</td>\n",
              "      <td>meldawgz</td>\n",
              "      <td>trying to convince chris parker to go to the f...</td>\n",
              "    </tr>\n",
              "    <tr>\n",
              "      <th>744582</th>\n",
              "      <td>0</td>\n",
              "      <td>2267178863</td>\n",
              "      <td>Sun Jun 21 09:45:13 PDT 2009</td>\n",
              "      <td>NO_QUERY</td>\n",
              "      <td>Pauleisha</td>\n",
              "      <td>Happy father's day dad rest in peace.</td>\n",
              "    </tr>\n",
              "    <tr>\n",
              "      <th>504489</th>\n",
              "      <td>0</td>\n",
              "      <td>2188140098</td>\n",
              "      <td>Mon Jun 15 21:22:11 PDT 2009</td>\n",
              "      <td>NO_QUERY</td>\n",
              "      <td>TiffanyDow</td>\n",
              "      <td>Prayers for pro golfers Phil Mickelson (wife ...</td>\n",
              "    </tr>\n",
              "    <tr>\n",
              "      <th>1355451</th>\n",
              "      <td>4</td>\n",
              "      <td>2047479756</td>\n",
              "      <td>Fri Jun 05 13:42:51 PDT 2009</td>\n",
              "      <td>NO_QUERY</td>\n",
              "      <td>jeremiahg</td>\n",
              "      <td>@ebellis FoSho. SilverTail is one company to w...</td>\n",
              "    </tr>\n",
              "    <tr>\n",
              "      <th>579344</th>\n",
              "      <td>0</td>\n",
              "      <td>2213450081</td>\n",
              "      <td>Wed Jun 17 15:23:23 PDT 2009</td>\n",
              "      <td>NO_QUERY</td>\n",
              "      <td>chachi_guerrero</td>\n",
              "      <td>I just noticed I lost the sunglasses I was wea...</td>\n",
              "    </tr>\n",
              "  </tbody>\n",
              "</table>\n",
              "</div>"
            ],
            "text/plain": [
              "         target  ...                                               text\n",
              "745082        0  ...  @beas_bloomsbury thanks Bea. Mine tried to eat...\n",
              "1523888       4  ...            Safety Town with Kyle &amp; Aden  Woop \n",
              "548162        0  ...                                   @cjdmusic scary \n",
              "1305397       4  ...  @beauty411 - I would say deep grass trenches  ...\n",
              "1373464       4  ...  @adambarber YES! OF COURSE! You guys should ha...\n",
              "637522        0  ...  trying to convince chris parker to go to the f...\n",
              "744582        0  ...             Happy father's day dad rest in peace. \n",
              "504489        0  ...   Prayers for pro golfers Phil Mickelson (wife ...\n",
              "1355451       4  ...  @ebellis FoSho. SilverTail is one company to w...\n",
              "579344        0  ...  I just noticed I lost the sunglasses I was wea...\n",
              "\n",
              "[10 rows x 6 columns]"
            ]
          },
          "metadata": {
            "tags": []
          },
          "execution_count": 13
        }
      ]
    },
    {
      "cell_type": "code",
      "metadata": {
        "colab": {
          "base_uri": "https://localhost:8080/",
          "height": 348
        },
        "id": "m5IRadxyn7ls",
        "outputId": "fe1f7cab-0df5-4e40-e7c6-eb92c427c467"
      },
      "source": [
        "# Creating a smaller dataset\n",
        "\n",
        "negative_tweets_df = df[0:799999]\n",
        "negative_tweets_df.tail(n=10)"
      ],
      "execution_count": 17,
      "outputs": [
        {
          "output_type": "execute_result",
          "data": {
            "text/html": [
              "<div>\n",
              "<style scoped>\n",
              "    .dataframe tbody tr th:only-of-type {\n",
              "        vertical-align: middle;\n",
              "    }\n",
              "\n",
              "    .dataframe tbody tr th {\n",
              "        vertical-align: top;\n",
              "    }\n",
              "\n",
              "    .dataframe thead th {\n",
              "        text-align: right;\n",
              "    }\n",
              "</style>\n",
              "<table border=\"1\" class=\"dataframe\">\n",
              "  <thead>\n",
              "    <tr style=\"text-align: right;\">\n",
              "      <th></th>\n",
              "      <th>target</th>\n",
              "      <th>ids</th>\n",
              "      <th>date</th>\n",
              "      <th>flag</th>\n",
              "      <th>user</th>\n",
              "      <th>text</th>\n",
              "    </tr>\n",
              "  </thead>\n",
              "  <tbody>\n",
              "    <tr>\n",
              "      <th>799989</th>\n",
              "      <td>0</td>\n",
              "      <td>2329204651</td>\n",
              "      <td>Thu Jun 25 10:28:26 PDT 2009</td>\n",
              "      <td>NO_QUERY</td>\n",
              "      <td>Badmantalking</td>\n",
              "      <td>and I think it has a mind of its own,like it a...</td>\n",
              "    </tr>\n",
              "    <tr>\n",
              "      <th>799990</th>\n",
              "      <td>0</td>\n",
              "      <td>2329204705</td>\n",
              "      <td>Thu Jun 25 10:28:27 PDT 2009</td>\n",
              "      <td>NO_QUERY</td>\n",
              "      <td>loveisnothing</td>\n",
              "      <td>@iaintnohomo  Banana will be playing later. BU...</td>\n",
              "    </tr>\n",
              "    <tr>\n",
              "      <th>799991</th>\n",
              "      <td>0</td>\n",
              "      <td>2329204790</td>\n",
              "      <td>Thu Jun 25 10:28:27 PDT 2009</td>\n",
              "      <td>NO_QUERY</td>\n",
              "      <td>CJROSE218</td>\n",
              "      <td>@koolgirl37 read my tweet below</td>\n",
              "    </tr>\n",
              "    <tr>\n",
              "      <th>799992</th>\n",
              "      <td>0</td>\n",
              "      <td>2329204835</td>\n",
              "      <td>Thu Jun 25 10:28:27 PDT 2009</td>\n",
              "      <td>NO_QUERY</td>\n",
              "      <td>mattfca</td>\n",
              "      <td>My life  http://mattf.ca/2009/06/24/yay-me/</td>\n",
              "    </tr>\n",
              "    <tr>\n",
              "      <th>799993</th>\n",
              "      <td>0</td>\n",
              "      <td>2329204987</td>\n",
              "      <td>Thu Jun 25 10:28:28 PDT 2009</td>\n",
              "      <td>NO_QUERY</td>\n",
              "      <td>360cookie</td>\n",
              "      <td>Tried to get the mutant Fawkes to follow me bu...</td>\n",
              "    </tr>\n",
              "    <tr>\n",
              "      <th>799994</th>\n",
              "      <td>0</td>\n",
              "      <td>2329205009</td>\n",
              "      <td>Thu Jun 25 10:28:28 PDT 2009</td>\n",
              "      <td>NO_QUERY</td>\n",
              "      <td>dandykim</td>\n",
              "      <td>Sick  Spending my day laying in bed listening ...</td>\n",
              "    </tr>\n",
              "    <tr>\n",
              "      <th>799995</th>\n",
              "      <td>0</td>\n",
              "      <td>2329205038</td>\n",
              "      <td>Thu Jun 25 10:28:28 PDT 2009</td>\n",
              "      <td>NO_QUERY</td>\n",
              "      <td>bigenya</td>\n",
              "      <td>Gmail is down?</td>\n",
              "    </tr>\n",
              "    <tr>\n",
              "      <th>799996</th>\n",
              "      <td>0</td>\n",
              "      <td>2329205473</td>\n",
              "      <td>Thu Jun 25 10:28:30 PDT 2009</td>\n",
              "      <td>NO_QUERY</td>\n",
              "      <td>LeeLHoke</td>\n",
              "      <td>rest in peace Farrah! So sad</td>\n",
              "    </tr>\n",
              "    <tr>\n",
              "      <th>799997</th>\n",
              "      <td>0</td>\n",
              "      <td>2329205574</td>\n",
              "      <td>Thu Jun 25 10:28:30 PDT 2009</td>\n",
              "      <td>NO_QUERY</td>\n",
              "      <td>davidlmulder</td>\n",
              "      <td>@Eric_Urbane Sounds like a rival is flagging y...</td>\n",
              "    </tr>\n",
              "    <tr>\n",
              "      <th>799998</th>\n",
              "      <td>0</td>\n",
              "      <td>2329205794</td>\n",
              "      <td>Thu Jun 25 10:28:31 PDT 2009</td>\n",
              "      <td>NO_QUERY</td>\n",
              "      <td>tpchandler</td>\n",
              "      <td>has to resit exams over summer...  wishes he w...</td>\n",
              "    </tr>\n",
              "  </tbody>\n",
              "</table>\n",
              "</div>"
            ],
            "text/plain": [
              "        target  ...                                               text\n",
              "799989       0  ...  and I think it has a mind of its own,like it a...\n",
              "799990       0  ...  @iaintnohomo  Banana will be playing later. BU...\n",
              "799991       0  ...                   @koolgirl37 read my tweet below \n",
              "799992       0  ...        My life  http://mattf.ca/2009/06/24/yay-me/\n",
              "799993       0  ...  Tried to get the mutant Fawkes to follow me bu...\n",
              "799994       0  ...  Sick  Spending my day laying in bed listening ...\n",
              "799995       0  ...                                    Gmail is down? \n",
              "799996       0  ...                      rest in peace Farrah! So sad \n",
              "799997       0  ...  @Eric_Urbane Sounds like a rival is flagging y...\n",
              "799998       0  ...  has to resit exams over summer...  wishes he w...\n",
              "\n",
              "[10 rows x 6 columns]"
            ]
          },
          "metadata": {
            "tags": []
          },
          "execution_count": 17
        }
      ]
    },
    {
      "cell_type": "code",
      "metadata": {
        "colab": {
          "base_uri": "https://localhost:8080/",
          "height": 348
        },
        "id": "QlJruVaiojD6",
        "outputId": "93b130f6-36ad-4fac-a687-bb1c0b89fd5d"
      },
      "source": [
        "positive_tweets_df = df[799999:]\n",
        "positive_tweets_df.sample(n=10)"
      ],
      "execution_count": 18,
      "outputs": [
        {
          "output_type": "execute_result",
          "data": {
            "text/html": [
              "<div>\n",
              "<style scoped>\n",
              "    .dataframe tbody tr th:only-of-type {\n",
              "        vertical-align: middle;\n",
              "    }\n",
              "\n",
              "    .dataframe tbody tr th {\n",
              "        vertical-align: top;\n",
              "    }\n",
              "\n",
              "    .dataframe thead th {\n",
              "        text-align: right;\n",
              "    }\n",
              "</style>\n",
              "<table border=\"1\" class=\"dataframe\">\n",
              "  <thead>\n",
              "    <tr style=\"text-align: right;\">\n",
              "      <th></th>\n",
              "      <th>target</th>\n",
              "      <th>ids</th>\n",
              "      <th>date</th>\n",
              "      <th>flag</th>\n",
              "      <th>user</th>\n",
              "      <th>text</th>\n",
              "    </tr>\n",
              "  </thead>\n",
              "  <tbody>\n",
              "    <tr>\n",
              "      <th>902201</th>\n",
              "      <td>4</td>\n",
              "      <td>1694382676</td>\n",
              "      <td>Mon May 04 02:22:26 PDT 2009</td>\n",
              "      <td>NO_QUERY</td>\n",
              "      <td>tdes</td>\n",
              "      <td>@chishiki Welcome back to Japan</td>\n",
              "    </tr>\n",
              "    <tr>\n",
              "      <th>1554982</th>\n",
              "      <td>4</td>\n",
              "      <td>2185014002</td>\n",
              "      <td>Mon Jun 15 16:45:21 PDT 2009</td>\n",
              "      <td>NO_QUERY</td>\n",
              "      <td>irachelrenee</td>\n",
              "      <td>@ilovelu I like the last one</td>\n",
              "    </tr>\n",
              "    <tr>\n",
              "      <th>969821</th>\n",
              "      <td>4</td>\n",
              "      <td>1827980455</td>\n",
              "      <td>Sun May 17 11:50:45 PDT 2009</td>\n",
              "      <td>NO_QUERY</td>\n",
              "      <td>Rlggx3</td>\n",
              "      <td>sooo confused! kerry help me.  ahah.</td>\n",
              "    </tr>\n",
              "    <tr>\n",
              "      <th>994089</th>\n",
              "      <td>4</td>\n",
              "      <td>1835499545</td>\n",
              "      <td>Mon May 18 06:07:55 PDT 2009</td>\n",
              "      <td>NO_QUERY</td>\n",
              "      <td>stuartmeek</td>\n",
              "      <td>Windies all out for 176 in their 2nd innings. ...</td>\n",
              "    </tr>\n",
              "    <tr>\n",
              "      <th>1222436</th>\n",
              "      <td>4</td>\n",
              "      <td>1990291520</td>\n",
              "      <td>Mon Jun 01 04:27:29 PDT 2009</td>\n",
              "      <td>NO_QUERY</td>\n",
              "      <td>antekos</td>\n",
              "      <td>listening never shout never</td>\n",
              "    </tr>\n",
              "    <tr>\n",
              "      <th>1348324</th>\n",
              "      <td>4</td>\n",
              "      <td>2044846327</td>\n",
              "      <td>Fri Jun 05 09:53:56 PDT 2009</td>\n",
              "      <td>NO_QUERY</td>\n",
              "      <td>nischalshetty</td>\n",
              "      <td>@apnerve comments are better that way since ot...</td>\n",
              "    </tr>\n",
              "    <tr>\n",
              "      <th>1441345</th>\n",
              "      <td>4</td>\n",
              "      <td>2061805125</td>\n",
              "      <td>Sat Jun 06 21:39:19 PDT 2009</td>\n",
              "      <td>NO_QUERY</td>\n",
              "      <td>KingCocoaWyatt</td>\n",
              "      <td>Must admit, that stud in the picture is not me...</td>\n",
              "    </tr>\n",
              "    <tr>\n",
              "      <th>992064</th>\n",
              "      <td>4</td>\n",
              "      <td>1835195580</td>\n",
              "      <td>Mon May 18 05:23:44 PDT 2009</td>\n",
              "      <td>NO_QUERY</td>\n",
              "      <td>ShesElectric_</td>\n",
              "      <td>Hey darlings, how is everyone today?! I'm just...</td>\n",
              "    </tr>\n",
              "    <tr>\n",
              "      <th>913725</th>\n",
              "      <td>4</td>\n",
              "      <td>1752697836</td>\n",
              "      <td>Sat May 09 22:41:24 PDT 2009</td>\n",
              "      <td>NO_QUERY</td>\n",
              "      <td>crrystalbabe</td>\n",
              "      <td>@vivianchiu LOL. You should buy your mummy flo...</td>\n",
              "    </tr>\n",
              "    <tr>\n",
              "      <th>1094194</th>\n",
              "      <td>4</td>\n",
              "      <td>1970126290</td>\n",
              "      <td>Sat May 30 02:33:38 PDT 2009</td>\n",
              "      <td>NO_QUERY</td>\n",
              "      <td>twittcrumpet</td>\n",
              "      <td>@shedfire break out the anecdotes. laughter wins</td>\n",
              "    </tr>\n",
              "  </tbody>\n",
              "</table>\n",
              "</div>"
            ],
            "text/plain": [
              "         target  ...                                               text\n",
              "902201        4  ...                   @chishiki Welcome back to Japan \n",
              "1554982       4  ...                      @ilovelu I like the last one \n",
              "969821        4  ...               sooo confused! kerry help me.  ahah.\n",
              "994089        4  ...  Windies all out for 176 in their 2nd innings. ...\n",
              "1222436       4  ...                       listening never shout never \n",
              "1348324       4  ...  @apnerve comments are better that way since ot...\n",
              "1441345       4  ...  Must admit, that stud in the picture is not me...\n",
              "992064        4  ...  Hey darlings, how is everyone today?! I'm just...\n",
              "913725        4  ...  @vivianchiu LOL. You should buy your mummy flo...\n",
              "1094194       4  ...  @shedfire break out the anecdotes. laughter wins \n",
              "\n",
              "[10 rows x 6 columns]"
            ]
          },
          "metadata": {
            "tags": []
          },
          "execution_count": 18
        }
      ]
    },
    {
      "cell_type": "code",
      "metadata": {
        "id": "aRMGtq8ro2pA"
      },
      "source": [
        "subset = pd.concat([negative_tweets_df.sample(n=55000), positive_tweets_df.sample(n=55000)])"
      ],
      "execution_count": 20,
      "outputs": []
    },
    {
      "cell_type": "code",
      "metadata": {
        "colab": {
          "base_uri": "https://localhost:8080/",
          "height": 348
        },
        "id": "VRlILJ3fqM4V",
        "outputId": "f61f4316-7e7e-47ae-c556-7473cf8d116a"
      },
      "source": [
        "subset.sample(n=10)"
      ],
      "execution_count": 21,
      "outputs": [
        {
          "output_type": "execute_result",
          "data": {
            "text/html": [
              "<div>\n",
              "<style scoped>\n",
              "    .dataframe tbody tr th:only-of-type {\n",
              "        vertical-align: middle;\n",
              "    }\n",
              "\n",
              "    .dataframe tbody tr th {\n",
              "        vertical-align: top;\n",
              "    }\n",
              "\n",
              "    .dataframe thead th {\n",
              "        text-align: right;\n",
              "    }\n",
              "</style>\n",
              "<table border=\"1\" class=\"dataframe\">\n",
              "  <thead>\n",
              "    <tr style=\"text-align: right;\">\n",
              "      <th></th>\n",
              "      <th>target</th>\n",
              "      <th>ids</th>\n",
              "      <th>date</th>\n",
              "      <th>flag</th>\n",
              "      <th>user</th>\n",
              "      <th>text</th>\n",
              "    </tr>\n",
              "  </thead>\n",
              "  <tbody>\n",
              "    <tr>\n",
              "      <th>439249</th>\n",
              "      <td>0</td>\n",
              "      <td>2066390397</td>\n",
              "      <td>Sun Jun 07 10:25:49 PDT 2009</td>\n",
              "      <td>NO_QUERY</td>\n",
              "      <td>TheBennyZone</td>\n",
              "      <td>@Sheindie  its saying it doesnt exist</td>\n",
              "    </tr>\n",
              "    <tr>\n",
              "      <th>47511</th>\n",
              "      <td>0</td>\n",
              "      <td>1677652140</td>\n",
              "      <td>Sat May 02 03:14:41 PDT 2009</td>\n",
              "      <td>NO_QUERY</td>\n",
              "      <td>karthikram2001</td>\n",
              "      <td>Got cold....and A long week ahead...working th...</td>\n",
              "    </tr>\n",
              "    <tr>\n",
              "      <th>61280</th>\n",
              "      <td>0</td>\n",
              "      <td>1686674705</td>\n",
              "      <td>Sun May 03 06:21:58 PDT 2009</td>\n",
              "      <td>NO_QUERY</td>\n",
              "      <td>KatHumble</td>\n",
              "      <td>@FeminaPrudentia Oh lord, not much I'm afraid....</td>\n",
              "    </tr>\n",
              "    <tr>\n",
              "      <th>652254</th>\n",
              "      <td>0</td>\n",
              "      <td>2238155734</td>\n",
              "      <td>Fri Jun 19 06:54:01 PDT 2009</td>\n",
              "      <td>NO_QUERY</td>\n",
              "      <td>maddie5218</td>\n",
              "      <td>@LizJonasHQ yeah  haha thank god it's only 34 ...</td>\n",
              "    </tr>\n",
              "    <tr>\n",
              "      <th>534758</th>\n",
              "      <td>0</td>\n",
              "      <td>2197677316</td>\n",
              "      <td>Tue Jun 16 14:58:58 PDT 2009</td>\n",
              "      <td>NO_QUERY</td>\n",
              "      <td>chocoholic_95</td>\n",
              "      <td>doing science home work. baking cake for home ...</td>\n",
              "    </tr>\n",
              "    <tr>\n",
              "      <th>1229976</th>\n",
              "      <td>4</td>\n",
              "      <td>1991476205</td>\n",
              "      <td>Mon Jun 01 07:06:28 PDT 2009</td>\n",
              "      <td>NO_QUERY</td>\n",
              "      <td>XanthRiaheart</td>\n",
              "      <td>Getting ready for a day of work at both jobs s...</td>\n",
              "    </tr>\n",
              "    <tr>\n",
              "      <th>1534294</th>\n",
              "      <td>4</td>\n",
              "      <td>2178739055</td>\n",
              "      <td>Mon Jun 15 08:08:12 PDT 2009</td>\n",
              "      <td>NO_QUERY</td>\n",
              "      <td>EggyMayers</td>\n",
              "      <td>@JohnnyToffee NO! Hmf. On my way home still fr...</td>\n",
              "    </tr>\n",
              "    <tr>\n",
              "      <th>1183456</th>\n",
              "      <td>4</td>\n",
              "      <td>1982431947</td>\n",
              "      <td>Sun May 31 11:11:45 PDT 2009</td>\n",
              "      <td>NO_QUERY</td>\n",
              "      <td>RollinsWallace</td>\n",
              "      <td>@patriotfreedom LOL ... no joke.  I encourage ...</td>\n",
              "    </tr>\n",
              "    <tr>\n",
              "      <th>970122</th>\n",
              "      <td>4</td>\n",
              "      <td>1828006311</td>\n",
              "      <td>Sun May 17 11:53:55 PDT 2009</td>\n",
              "      <td>NO_QUERY</td>\n",
              "      <td>DubarryMcfly</td>\n",
              "      <td>@JessMcflyxxx hey im good thanks chicken  love...</td>\n",
              "    </tr>\n",
              "    <tr>\n",
              "      <th>1010227</th>\n",
              "      <td>4</td>\n",
              "      <td>1880982094</td>\n",
              "      <td>Fri May 22 03:11:14 PDT 2009</td>\n",
              "      <td>NO_QUERY</td>\n",
              "      <td>MetaKongDetroit</td>\n",
              "      <td>wildwindart @grader @seandeardorff @QueenRania...</td>\n",
              "    </tr>\n",
              "  </tbody>\n",
              "</table>\n",
              "</div>"
            ],
            "text/plain": [
              "         target  ...                                               text\n",
              "439249        0  ...             @Sheindie  its saying it doesnt exist \n",
              "47511         0  ...  Got cold....and A long week ahead...working th...\n",
              "61280         0  ...  @FeminaPrudentia Oh lord, not much I'm afraid....\n",
              "652254        0  ...  @LizJonasHQ yeah  haha thank god it's only 34 ...\n",
              "534758        0  ...  doing science home work. baking cake for home ...\n",
              "1229976       4  ...  Getting ready for a day of work at both jobs s...\n",
              "1534294       4  ...  @JohnnyToffee NO! Hmf. On my way home still fr...\n",
              "1183456       4  ...  @patriotfreedom LOL ... no joke.  I encourage ...\n",
              "970122        4  ...  @JessMcflyxxx hey im good thanks chicken  love...\n",
              "1010227       4  ...  wildwindart @grader @seandeardorff @QueenRania...\n",
              "\n",
              "[10 rows x 6 columns]"
            ]
          },
          "metadata": {
            "tags": []
          },
          "execution_count": 21
        }
      ]
    },
    {
      "cell_type": "code",
      "metadata": {
        "colab": {
          "base_uri": "https://localhost:8080/",
          "height": 354
        },
        "id": "F8WK6jdTqRju",
        "outputId": "49f14b96-6ef5-4c81-a56d-2b9b23c7425b"
      },
      "source": [
        "import matplotlib.pyplot as plt\n",
        "import seaborn as sns\n",
        "\n",
        "sns.countplot(subset.target)"
      ],
      "execution_count": 22,
      "outputs": [
        {
          "output_type": "stream",
          "text": [
            "/usr/local/lib/python3.7/dist-packages/seaborn/_decorators.py:43: FutureWarning: Pass the following variable as a keyword arg: x. From version 0.12, the only valid positional argument will be `data`, and passing other arguments without an explicit keyword will result in an error or misinterpretation.\n",
            "  FutureWarning\n"
          ],
          "name": "stderr"
        },
        {
          "output_type": "execute_result",
          "data": {
            "text/plain": [
              "<matplotlib.axes._subplots.AxesSubplot at 0x7f8661580550>"
            ]
          },
          "metadata": {
            "tags": []
          },
          "execution_count": 22
        },
        {
          "output_type": "display_data",
          "data": {
            "image/png": "[encoded data removed]",
            "text/plain": [
              "<Figure size 432x288 with 1 Axes>"
            ]
          },
          "metadata": {
            "tags": [],
            "needs_background": "light"
          }
        }
      ]
    },
    {
      "cell_type": "code",
      "metadata": {
        "id": "vVBHJUIgqZNn"
      },
      "source": [
        "subset.to_csv('/content/drive/MyDrive/Cryptofuture/small_data.csv', encoding='utf-8')"
      ],
      "execution_count": 23,
      "outputs": []
    }
  ]
}