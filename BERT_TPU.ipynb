{
  "nbformat": 4,
  "nbformat_minor": 0,
  "metadata": {
    "accelerator": "TPU",
    "colab": {
      "name": "BERT_TPU.ipynb",
      "provenance": [],
      "collapsed_sections": []
    },
    "kernelspec": {
      "display_name": "Python 3",
      "name": "python3"
    }
  },
  "cells": [
    {
      "cell_type": "code",
      "metadata": {
        "id": "A-LICA3y9KHU"
      },
      "source": [
        "!pip install transformers==4.3.3 --quiet"
      ],
      "execution_count": 1,
      "outputs": []
    },
    {
      "cell_type": "code",
      "metadata": {
        "id": "KEivBV3g_Geo"
      },
      "source": [
        "import os\r\n",
        "from collections import defaultdict\r\n",
        "from textwrap import wrap\r\n",
        "\r\n",
        "import numpy as np\r\n",
        "import pandas as pd\r\n",
        "%matplotlib inline\r\n",
        "import matplotlib.pyplot as plt\r\n",
        "from matplotlib import rc\r\n",
        "from pylab import rcParams\r\n",
        "import seaborn as sns\r\n",
        "\r\n",
        "import torch\r\n",
        "from torch import nn, optim\r\n",
        "from torch.utils.data import Dataset, DataLoader\r\n",
        "import torch.nn.functional as F\r\n",
        "\r\n",
        "from transformers import BertTokenizer, BertModel, AdamW, get_linear_schedule_with_warmup\r\n",
        "\r\n",
        "from sklearn.model_selection import train_test_split\r\n",
        "from sklearn.metrics import confusion_matrix, classification_report\r\n",
        "\r\n",
        "# importing augmented receiver operation curves to check how each class perform prediction for the labels\r\n",
        "# import pytorch_lightning as pl\r\n",
        "# from pytorch_lightning.metrics.functional.classification import auroc"
      ],
      "execution_count": 2,
      "outputs": []
    },
    {
      "cell_type": "code",
      "metadata": {
        "id": "bqpByLs3HSQy"
      },
      "source": [
        "assert os.environ['COLAB_TPU_ADDR']"
      ],
      "execution_count": 3,
      "outputs": []
    },
    {
      "cell_type": "code",
      "metadata": {
        "id": "yUB12htcqU9W"
      },
      "source": [
        "!pip install cloud-tpu-client==0.10 https://storage.googleapis.com/tpu-pytorch/wheels/torch_xla-1.7-cp37-cp37m-linux_x86_64.whl --quiet"
      ],
      "execution_count": 4,
      "outputs": []
    },
    {
      "cell_type": "code",
      "metadata": {
        "colab": {
          "base_uri": "https://localhost:8080/"
        },
        "id": "UxGOrX_0HqnB",
        "outputId": "886761c2-0912-4fbb-b8af-a5e12d6e4024"
      },
      "source": [
        "# imports the torch_xla package\r\n",
        "import torch_xla\r\n",
        "import torch_xla.core.xla_model as xm\r\n",
        "\r\n",
        "# Creates a random tensor on xla:1 (a Cloud TPU core)\r\n",
        "dev = xm.xla_device()\r\n",
        "# Creating a tensor on the second Cloud TPU core\r\n",
        "# second_dev = xm.xla_device(n=2, devkind='TPU')\r\n",
        "# t2 = torch.zeros(3, 3, device = second_dev)\r\n",
        "# print(t2)"
      ],
      "execution_count": 5,
      "outputs": [
        {
          "output_type": "stream",
          "text": [
            "WARNING:root:Waiting for TPU to be start up with version pytorch-1.7...\n",
            "WARNING:root:TPU has started up successfully with version pytorch-1.7\n"
          ],
          "name": "stderr"
        }
      ]
    },
    {
      "cell_type": "code",
      "metadata": {
        "id": "Nh-vvA6J_5hC"
      },
      "source": [
        "%config InlineBackend.figure_format='retina'\r\n",
        "\r\n",
        "RANDOM_SEED = 21\r\n",
        "np.random.seed(RANDOM_SEED)\r\n",
        "torch.manual_seed(RANDOM_SEED)\r\n",
        "\r\n",
        "sns.set(style='whitegrid', palette='muted', font_scale=1.2)\r\n",
        "rcParams['figure.figsize'] = 12, 8"
      ],
      "execution_count": 6,
      "outputs": []
    },
    {
      "cell_type": "code",
      "metadata": {
        "colab": {
          "base_uri": "https://localhost:8080/",
          "height": 195
        },
        "id": "Om6pCmOSBqL_",
        "outputId": "7a136e9c-2437-4f03-96e5-230bf052940b"
      },
      "source": [
        "project_path = '/content/drive/MyDrive/dataset/'\r\n",
        "train_data_path = os.path.join(project_path, 'traindata_clean.csv')\r\n",
        "\r\n",
        "df = pd.read_csv(train_data_path, encoding='latin')\r\n",
        "\r\n",
        "df.head()"
      ],
      "execution_count": 7,
      "outputs": [
        {
          "output_type": "execute_result",
          "data": {
            "text/html": [
              "<div>\n",
              "<style scoped>\n",
              "    .dataframe tbody tr th:only-of-type {\n",
              "        vertical-align: middle;\n",
              "    }\n",
              "\n",
              "    .dataframe tbody tr th {\n",
              "        vertical-align: top;\n",
              "    }\n",
              "\n",
              "    .dataframe thead th {\n",
              "        text-align: right;\n",
              "    }\n",
              "</style>\n",
              "<table border=\"1\" class=\"dataframe\">\n",
              "  <thead>\n",
              "    <tr style=\"text-align: right;\">\n",
              "      <th></th>\n",
              "      <th>tweet</th>\n",
              "      <th>target</th>\n",
              "    </tr>\n",
              "  </thead>\n",
              "  <tbody>\n",
              "    <tr>\n",
              "      <th>0</th>\n",
              "      <td>is upset that he can't update his facebook by ...</td>\n",
              "      <td>0</td>\n",
              "    </tr>\n",
              "    <tr>\n",
              "      <th>1</th>\n",
              "      <td>entity i dived many times for the ball. manage...</td>\n",
              "      <td>0</td>\n",
              "    </tr>\n",
              "    <tr>\n",
              "      <th>2</th>\n",
              "      <td>my whole body feels itchy and like its on fire</td>\n",
              "      <td>0</td>\n",
              "    </tr>\n",
              "    <tr>\n",
              "      <th>3</th>\n",
              "      <td>entity no, it's not behaving at all. i'm mad. ...</td>\n",
              "      <td>0</td>\n",
              "    </tr>\n",
              "    <tr>\n",
              "      <th>4</th>\n",
              "      <td>entity not the whole crew</td>\n",
              "      <td>0</td>\n",
              "    </tr>\n",
              "  </tbody>\n",
              "</table>\n",
              "</div>"
            ],
            "text/plain": [
              "                                               tweet  target\n",
              "0  is upset that he can't update his facebook by ...       0\n",
              "1  entity i dived many times for the ball. manage...       0\n",
              "2     my whole body feels itchy and like its on fire       0\n",
              "3  entity no, it's not behaving at all. i'm mad. ...       0\n",
              "4                          entity not the whole crew       0"
            ]
          },
          "metadata": {
            "tags": []
          },
          "execution_count": 7
        }
      ]
    },
    {
      "cell_type": "code",
      "metadata": {
        "id": "fGWyqaiJBMa7"
      },
      "source": [
        "PRETRAINED_MODEL_NAME = 'bert-base-uncased'\r\n",
        "\r\n",
        "tokenizer = BertTokenizer.from_pretrained(PRETRAINED_MODEL_NAME)"
      ],
      "execution_count": 8,
      "outputs": []
    },
    {
      "cell_type": "code",
      "metadata": {
        "colab": {
          "base_uri": "https://localhost:8080/"
        },
        "id": "a4vTjbYIBk4a",
        "outputId": "5c11ed42-63dd-4768-9768-44469f3ed13a"
      },
      "source": [
        "# Finding the maximum token length\r\n",
        "\r\n",
        "from tqdm import tqdm\r\n",
        "\r\n",
        "token_lens = []\r\n",
        "\r\n",
        "for t in tqdm(df.tweet):\r\n",
        "    tokens = tokenizer.encode(t, max_length=512)\r\n",
        "    token_lens.append(len(tokens))"
      ],
      "execution_count": 9,
      "outputs": [
        {
          "output_type": "stream",
          "text": [
            "  0%|          | 0/1529862 [00:00<?, ?it/s]Truncation was not explicitly activated but `max_length` is provided a specific value, please use `truncation=True` to explicitly truncate examples to max length. Defaulting to 'longest_first' truncation strategy. If you encode pairs of sequences (GLUE-style) with the tokenizer you can select this strategy more precisely by providing a specific strategy to `truncation`.\n",
            "100%|██████████| 1529862/1529862 [12:15<00:00, 2079.58it/s]\n"
          ],
          "name": "stderr"
        }
      ]
    },
    {
      "cell_type": "code",
      "metadata": {
        "id": "Nwr9ol-CDZY_"
      },
      "source": [
        "import pickle\r\n",
        "\r\n",
        "with open(os.path.join(project_path, 'token_lens.txt'), 'wb') as file:\r\n",
        "    pickle.dump(token_lens, file)"
      ],
      "execution_count": 10,
      "outputs": []
    },
    {
      "cell_type": "code",
      "metadata": {
        "colab": {
          "base_uri": "https://localhost:8080/",
          "height": 360
        },
        "id": "7owhA1ErOm8y",
        "outputId": "52a68a80-50ac-47e6-88c7-1b8d8d737b49"
      },
      "source": [
        "# Plot\r\n",
        "\r\n",
        "ax = sns.displot(token_lens)\r\n",
        "plt.savefig(os.path.join(project_path, 'token_lens.jpg'))"
      ],
      "execution_count": 11,
      "outputs": [
        {
          "output_type": "display_data",
          "data": {
            "image/png": "[encoded data removed]",
            "text/plain": [
              "<Figure size 360x360 with 1 Axes>"
            ]
          },
          "metadata": {
            "tags": [],
            "image/png": {
              "width": 344,
              "height": 343
            }
          }
        }
      ]
    },
    {
      "cell_type": "code",
      "metadata": {
        "colab": {
          "base_uri": "https://localhost:8080/"
        },
        "id": "FQmYt8OUOyUh",
        "outputId": "876c1340-b5df-4a28-de07-3ca5f2cd78dc"
      },
      "source": [
        "print(max(token_lens))\r\n",
        "MAX_LEN=400"
      ],
      "execution_count": 12,
      "outputs": [
        {
          "output_type": "stream",
          "text": [
            "399\n"
          ],
          "name": "stdout"
        }
      ]
    },
    {
      "cell_type": "code",
      "metadata": {
        "id": "cENcocsCIttO"
      },
      "source": [
        "class TweetSentimentDataset(Dataset):\r\n",
        "    def __init__(self, tweets, targets, tokenizer, max_len):\r\n",
        "        self.tweets = tweets\r\n",
        "        self.targets = targets\r\n",
        "        self.tokenizer = tokenizer\r\n",
        "        self.max_len = max_len\r\n",
        "\r\n",
        "    def __len__(self):\r\n",
        "        return len(self.tweets)\r\n",
        "    \r\n",
        "    def __getitem__(self, item):\r\n",
        "        tweet = self.tweets[item]\r\n",
        "        target = self.targets[item]\r\n",
        "\r\n",
        "        encoding = self.tokenizer.encode_plus(\r\n",
        "            tweet,\r\n",
        "            add_special_tokens=True,\r\n",
        "            max_length=self.max_len,\r\n",
        "            return_token_type_ids=False,\r\n",
        "            padding='max_length',\r\n",
        "            return_attention_mask=True,\r\n",
        "            return_tensors='pt'\r\n",
        "        )\r\n",
        "\r\n",
        "        return {\r\n",
        "            'tweet': tweet,\r\n",
        "            'targets': torch.tensor(target, dtype=torch.long),\r\n",
        "            'input_ids': encoding['input_ids'].flatten(),\r\n",
        "            'attention_mask': encoding['attention_mask'].flatten()\r\n",
        "        }"
      ],
      "execution_count": 13,
      "outputs": []
    },
    {
      "cell_type": "code",
      "metadata": {
        "id": "DCglAIVzIwSW",
        "colab": {
          "base_uri": "https://localhost:8080/"
        },
        "outputId": "14b2a7d8-c5ca-4483-e225-f2210419c7ca"
      },
      "source": [
        "# Creating training testing and validation data\r\n",
        "\r\n",
        "df_train, df_test = train_test_split(df, test_size=0.1, random_state=RANDOM_SEED)\r\n",
        "df_val, df_test = train_test_split(df_test, test_size=0.5, random_state=RANDOM_SEED)\r\n",
        "\r\n",
        "df_train.shape, df_test.shape, df_val.shape"
      ],
      "execution_count": 14,
      "outputs": [
        {
          "output_type": "execute_result",
          "data": {
            "text/plain": [
              "((1376875, 2), (76494, 2), (76493, 2))"
            ]
          },
          "metadata": {
            "tags": []
          },
          "execution_count": 14
        }
      ]
    },
    {
      "cell_type": "code",
      "metadata": {
        "id": "ykC16vXHOfjD"
      },
      "source": [
        "# Defining dataloader\r\n",
        "\r\n",
        "def create_data_loader(df, tokenizer, max_len, batch_size):\r\n",
        "    ds = TweetSentimentDataset(\r\n",
        "        tweets=df.tweet.to_numpy(),\r\n",
        "        targets=df.target.to_numpy(),\r\n",
        "        tokenizer=tokenizer,\r\n",
        "        max_len=max_len\r\n",
        "    )\r\n",
        "    return DataLoader(\r\n",
        "        ds,\r\n",
        "        batch_size=batch_size,\r\n",
        "        num_workers=4,\r\n",
        "    )"
      ],
      "execution_count": 15,
      "outputs": []
    },
    {
      "cell_type": "code",
      "metadata": {
        "id": "2gJyOMGWOR6R"
      },
      "source": [
        "# Creating train, val and test dataloader\r\n",
        "\r\n",
        "BATCH_SIZE = 16\r\n",
        "\r\n",
        "train_data_loader = create_data_loader(df_train, tokenizer, MAX_LEN, BATCH_SIZE)\r\n",
        "val_data_loader = create_data_loader(df_val, tokenizer, MAX_LEN, BATCH_SIZE)\r\n",
        "test_data_loader = create_data_loader(df_test, tokenizer, MAX_LEN, BATCH_SIZE)"
      ],
      "execution_count": 16,
      "outputs": []
    },
    {
      "cell_type": "code",
      "metadata": {
        "colab": {
          "base_uri": "https://localhost:8080/"
        },
        "id": "l8iAhAPEPFt_",
        "outputId": "2d67f71e-b6f9-4df8-cc8f-812eb7564e8a"
      },
      "source": [
        "data = next(iter(train_data_loader))\r\n",
        "data.keys()"
      ],
      "execution_count": 17,
      "outputs": [
        {
          "output_type": "execute_result",
          "data": {
            "text/plain": [
              "dict_keys(['tweet', 'targets', 'input_ids', 'attention_mask'])"
            ]
          },
          "metadata": {
            "tags": []
          },
          "execution_count": 17
        }
      ]
    },
    {
      "cell_type": "code",
      "metadata": {
        "id": "3uloT9abPPod"
      },
      "source": [
        "# BERT Model\r\n",
        "\r\n",
        "bert_model = BertModel.from_pretrained(PRETRAINED_MODEL_NAME)"
      ],
      "execution_count": 18,
      "outputs": []
    },
    {
      "cell_type": "code",
      "metadata": {
        "id": "-e3T9ZWkQldZ"
      },
      "source": [
        "# Creating Sentiment classifier class\r\n",
        "\r\n",
        "class TweetSentimentClassifier(nn.Module):\r\n",
        "    def __init__(self, n_classes):\r\n",
        "        super(TweetSentimentClassifier, self).__init__()\r\n",
        "        self.bert = BertModel.from_pretrained(PRETRAINED_MODEL_NAME)\r\n",
        "        self.drop = nn.Dropout(p=0.3)\r\n",
        "        self.out = nn.Linear(self.bert.config.hidden_size, n_classes)\r\n",
        "    \r\n",
        "    def forward(self, input_ids, attention_mask):\r\n",
        "        o = self.bert(\r\n",
        "            input_ids=input_ids,\r\n",
        "            attention_mask=attention_mask\r\n",
        "        )\r\n",
        "        pooler_output = o['pooler_output']\r\n",
        "        output = self.drop(pooler_output)\r\n",
        "        return self.out(output)"
      ],
      "execution_count": 19,
      "outputs": []
    },
    {
      "cell_type": "code",
      "metadata": {
        "colab": {
          "base_uri": "https://localhost:8080/"
        },
        "id": "oy0zPG8SQpBp",
        "outputId": "7306ccaa-bae4-43fa-93a6-bf6fb22839bf"
      },
      "source": [
        "# Creating a model instance\r\n",
        "CLASS_NAMES = ['negative', 'positive']\r\n",
        "\r\n",
        "model = TweetSentimentClassifier(len(CLASS_NAMES))\r\n",
        "model = model.to(dev)\r\n",
        "\r\n",
        "input_ids = data['input_ids'].to(dev)\r\n",
        "attention_mask = data['attention_mask'].to(dev)\r\n",
        "\r\n",
        "print(input_ids.shape)\r\n",
        "print(attention_mask.shape)"
      ],
      "execution_count": 20,
      "outputs": [
        {
          "output_type": "stream",
          "text": [
            "torch.Size([16, 400])\n",
            "torch.Size([16, 400])\n"
          ],
          "name": "stdout"
        }
      ]
    },
    {
      "cell_type": "code",
      "metadata": {
        "colab": {
          "base_uri": "https://localhost:8080/"
        },
        "id": "Stk2fVY0Q8gb",
        "outputId": "3fb7fb33-7ae9-4252-c3d5-214788fc7903"
      },
      "source": [
        "F.softmax(model(input_ids, attention_mask), dim=1)"
      ],
      "execution_count": 21,
      "outputs": [
        {
          "output_type": "execute_result",
          "data": {
            "text/plain": [
              "tensor([[0.6302, 0.3698],\n",
              "        [0.6520, 0.3480],\n",
              "        [0.8138, 0.1862],\n",
              "        [0.5560, 0.4440],\n",
              "        [0.5566, 0.4434],\n",
              "        [0.6597, 0.3403],\n",
              "        [0.6163, 0.3837],\n",
              "        [0.5279, 0.4721],\n",
              "        [0.5213, 0.4787],\n",
              "        [0.7272, 0.2728],\n",
              "        [0.6972, 0.3028],\n",
              "        [0.5058, 0.4942],\n",
              "        [0.6557, 0.3443],\n",
              "        [0.6647, 0.3353],\n",
              "        [0.5570, 0.4430],\n",
              "        [0.7137, 0.2863]], device='xla:1', grad_fn=<SoftmaxBackward>)"
            ]
          },
          "metadata": {
            "tags": []
          },
          "execution_count": 21
        }
      ]
    },
    {
      "cell_type": "code",
      "metadata": {
        "id": "xWvn8kGUREy0"
      },
      "source": [
        "# Defining epochs, optimizer, scheduler, loss_fn\r\n",
        "\r\n",
        "EPOCHS = 10\r\n",
        "\r\n",
        "optimizer = AdamW(model.parameters(), lr=2e-5, correct_bias=False)\r\n",
        "total_steps = len(train_data_loader) * EPOCHS\r\n",
        "\r\n",
        "scheduler = get_linear_schedule_with_warmup(\r\n",
        "    optimizer,\r\n",
        "    num_warmup_steps=0,\r\n",
        "    num_training_steps=total_steps\r\n",
        ")\r\n",
        "\r\n",
        "loss_fn = nn.CrossEntropyLoss().to(dev)"
      ],
      "execution_count": 22,
      "outputs": []
    },
    {
      "cell_type": "code",
      "metadata": {
        "id": "fDm-rTHKRIdF"
      },
      "source": [
        "# Training model function\r\n",
        "\r\n",
        "def train_epoch(\r\n",
        "    model,\r\n",
        "    data_loader,\r\n",
        "    loss_fn,\r\n",
        "    optimizer,\r\n",
        "    device,\r\n",
        "    scheduler,\r\n",
        "    n_examples\r\n",
        "):\r\n",
        "    model = model.train()\r\n",
        "\r\n",
        "    losses = []\r\n",
        "    correct_predictions = 0\r\n",
        "\r\n",
        "    for d in data_loader:\r\n",
        "        input_ids = d['input_ids'].to(dev)\r\n",
        "        attention_mask = d['attention_mask'].to(dev)\r\n",
        "        targets = d['targets'].to(dev)\r\n",
        "\r\n",
        "        outputs = model(\r\n",
        "            input_ids=input_ids,\r\n",
        "            attention_mask=attention_mask\r\n",
        "        )\r\n",
        "\r\n",
        "        _, preds = torch.max(outputs, dim=1)\r\n",
        "        loss = loss_fn(outputs, targets)\r\n",
        "\r\n",
        "        correct_predictions += torch.sum(preds == targets)\r\n",
        "        losses.append(loss.item())\r\n",
        "\r\n",
        "        loss.backward()\r\n",
        "        nn.utils.clip_grad_norm_(model.parameters(), max_norm=1.0)\r\n",
        "        optimizer.step()\r\n",
        "        scheduler.step()\r\n",
        "        optimizer.zero_grad()\r\n",
        "    \r\n",
        "    return correct_predictions.double() / n_examples, np.mean(losses)"
      ],
      "execution_count": 23,
      "outputs": []
    },
    {
      "cell_type": "code",
      "metadata": {
        "id": "93_eEFmnRM1Z"
      },
      "source": [
        "# Evaluating model function\r\n",
        "\r\n",
        "def eval_model(\r\n",
        "    model,\r\n",
        "    data_loader,\r\n",
        "    loss_fn,\r\n",
        "    device,\r\n",
        "    n_examples\r\n",
        "):\r\n",
        "    losses = []\r\n",
        "    correct_predictions = 0\r\n",
        "\r\n",
        "    with torch.no_grad():\r\n",
        "        for d in data_loader:\r\n",
        "            input_ids = d['input_ids'].to(dev)\r\n",
        "            attention_mask = d['attention_mask'].to(dev)\r\n",
        "            targets = d['targets'].to(dev)\r\n",
        "\r\n",
        "            outputs = model(\r\n",
        "                input_ids=input_ids,\r\n",
        "                attention_mask=attention_mask\r\n",
        "            )\r\n",
        "\r\n",
        "            _, preds = torch.max(outputs, dim=1)\r\n",
        "            loss = loss_fn(outputs, targets)\r\n",
        "\r\n",
        "            correct_predictions += torch.sum(preds == targets)\r\n",
        "            losses.append(loss.item())\r\n",
        "        \r\n",
        "    return correct_predictions.double() / n_examples, np.mean(losses)"
      ],
      "execution_count": 24,
      "outputs": []
    },
    {
      "cell_type": "code",
      "metadata": {
        "colab": {
          "base_uri": "https://localhost:8080/"
        },
        "id": "JGdZWN4LRZYt",
        "outputId": "444a0776-a461-4d10-f709-29f2d4c05c2a"
      },
      "source": [
        "%%time\r\n",
        "\r\n",
        "history = defaultdict(list)\r\n",
        "best_accuracy = 0\r\n",
        "\r\n",
        "for epoch in range(EPOCHS):\r\n",
        "\r\n",
        "  print(f'Epoch {epoch + 1}/{EPOCHS}')\r\n",
        "  print('-' * 10)\r\n",
        "\r\n",
        "  train_acc, train_loss = train_epoch(\r\n",
        "    model,\r\n",
        "    train_data_loader,    \r\n",
        "    loss_fn, \r\n",
        "    optimizer, \r\n",
        "    dev, \r\n",
        "    scheduler, \r\n",
        "    len(df_train)\r\n",
        "  )\r\n",
        "\r\n",
        "  print(f'Train loss {train_loss} accuracy {train_acc}')\r\n",
        "\r\n",
        "  val_acc, val_loss = eval_model(\r\n",
        "    model,\r\n",
        "    val_data_loader,\r\n",
        "    loss_fn, \r\n",
        "    dev, \r\n",
        "    len(df_val)\r\n",
        "  )\r\n",
        "\r\n",
        "  print(f'Val   loss {val_loss} accuracy {val_acc}')\r\n",
        "  print()\r\n",
        "\r\n",
        "  history['train_acc'].append(train_acc)\r\n",
        "  history['train_loss'].append(train_loss)\r\n",
        "  history['val_acc'].append(val_acc)\r\n",
        "  history['val_loss'].append(val_loss)\r\n",
        "\r\n",
        "  if val_acc > best_accuracy:\r\n",
        "    torch.save(model.state_dict(), 'best_model_state.bin')\r\n",
        "    best_accuracy = val_acc"
      ],
      "execution_count": null,
      "outputs": [
        {
          "output_type": "stream",
          "text": [
            "Epoch 1/10\n",
            "----------\n"
          ],
          "name": "stdout"
        }
      ]
    }
  ]
}